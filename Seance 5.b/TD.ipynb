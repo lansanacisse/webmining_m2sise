{
 "cells": [
  {
   "cell_type": "markdown",
   "metadata": {},
   "source": [
    "##  **load data**"
   ]
  },
  {
   "cell_type": "code",
   "execution_count": 1,
   "metadata": {},
   "outputs": [],
   "source": [
    "# import libraries\n",
    "import numpy as np\n",
    "import pandas as pd\n",
    "import matplotlib.pyplot as plt"
   ]
  },
  {
   "cell_type": "code",
   "execution_count": 2,
   "metadata": {},
   "outputs": [],
   "source": [
    "# load data\n",
    "df = pd.read_excel(\"imbalanced_dataset.xlsx\")"
   ]
  },
  {
   "cell_type": "code",
   "execution_count": 3,
   "metadata": {},
   "outputs": [
    {
     "name": "stdout",
     "output_type": "stream",
     "text": [
      "       V1     V2     V3    V4    V5     V6 objective\n",
      "0  178.57  37.12   3037   391  3.41   4243  positive\n",
      "1  146.04  51.03   1821   115  4.72  14254  positive\n",
      "2  161.80  49.99   6029   746  6.34   6243  positive\n",
      "3  127.83  72.42   7566   573  6.50  14044  positive\n",
      "4  113.11  78.59  10734  1775  8.79   2918  positive\n"
     ]
    }
   ],
   "source": [
    "# head of the data\n",
    "print(df.head())"
   ]
  },
  {
   "cell_type": "code",
   "execution_count": 4,
   "metadata": {},
   "outputs": [
    {
     "name": "stdout",
     "output_type": "stream",
     "text": [
      "(3900, 7)\n"
     ]
    }
   ],
   "source": [
    "# shape of the data\n",
    "print(df.shape)"
   ]
  },
  {
   "cell_type": "code",
   "execution_count": 5,
   "metadata": {},
   "outputs": [
    {
     "name": "stdout",
     "output_type": "stream",
     "text": [
      "objective\n",
      "negative    3831\n",
      "positive      69\n",
      "Name: count, dtype: int64\n"
     ]
    }
   ],
   "source": [
    "# value counts of the target variable\n",
    "print(df['objective'].value_counts())"
   ]
  },
  {
   "cell_type": "code",
   "execution_count": 6,
   "metadata": {},
   "outputs": [
    {
     "name": "stdout",
     "output_type": "stream",
     "text": [
      "Training set shape: (2700, 6)\n",
      "Test set shape: (1200, 6)\n",
      "\n",
      "Class distribution in training set:\n",
      "objective\n",
      "negative    2652\n",
      "positive      48\n",
      "Name: count, dtype: int64\n",
      "\n",
      "Class distribution in test set:\n",
      "objective\n",
      "negative    1179\n",
      "positive      21\n",
      "Name: count, dtype: int64\n"
     ]
    }
   ],
   "source": [
    "from sklearn.model_selection import train_test_split\n",
    "\n",
    "# Split the data into features (X) and target (y)\n",
    "X = df.drop('objective', axis=1)\n",
    "y = df['objective']\n",
    "\n",
    "# Split into train and test sets\n",
    "X_train, X_test, y_train, y_test = train_test_split(X, y, \n",
    "                                                    train_size=2700,\n",
    "                                                    test_size=1200,\n",
    "                                                    stratify=y,\n",
    "                                                    random_state=1)\n",
    "\n",
    "# Print the shapes to verify\n",
    "print(\"Training set shape:\", X_train.shape)\n",
    "print(\"Test set shape:\", X_test.shape)\n",
    "print(\"\\nClass distribution in training set:\")\n",
    "print(y_train.value_counts())\n",
    "print(\"\\nClass distribution in test set:\")\n",
    "print(y_test.value_counts())"
   ]
  },
  {
   "cell_type": "code",
   "execution_count": 7,
   "metadata": {},
   "outputs": [
    {
     "name": "stdout",
     "output_type": "stream",
     "text": [
      "objective\n",
      "negative    0.982308\n",
      "positive    0.017692\n",
      "Name: proportion, dtype: float64\n"
     ]
    }
   ],
   "source": [
    "# frequency of the target variable\n",
    "print(df['objective'].value_counts(normalize=True))"
   ]
  },
  {
   "cell_type": "markdown",
   "metadata": {},
   "source": [
    "## **Données représentatives**"
   ]
  },
  {
   "cell_type": "code",
   "execution_count": 8,
   "metadata": {},
   "outputs": [
    {
     "name": "stdout",
     "output_type": "stream",
     "text": [
      "Training score: 0.9829629629629629\n",
      "Test score: 0.9816666666666667\n"
     ]
    }
   ],
   "source": [
    "from sklearn.linear_model import LogisticRegression\n",
    "\n",
    "# Create and train the logistic regression model\n",
    "modele1 = LogisticRegression(random_state=1, solver='liblinear')\n",
    "modele1.fit(X_train, y_train)\n",
    "\n",
    "# Print the model score on training data\n",
    "print(\"Training score:\", modele1.score(X_train, y_train))\n",
    "# Print the model score on test data\n",
    "print(\"Test score:\", modele1.score(X_test, y_test))"
   ]
  },
  {
   "cell_type": "code",
   "execution_count": 9,
   "metadata": {},
   "outputs": [
    {
     "name": "stdout",
     "output_type": "stream",
     "text": [
      "0.016097382237914643\n"
     ]
    }
   ],
   "source": [
    "# calculate of predicted probabilities\n",
    "y_pred_proba = modele1.predict_proba(X_test)[:,1]\n",
    "# mean of predicted probabilities\n",
    "print(y_pred_proba.mean())"
   ]
  },
  {
   "cell_type": "code",
   "execution_count": 10,
   "metadata": {},
   "outputs": [
    {
     "data": {
      "image/png": "[encoded data removed]",
      "text/plain": [
       "<Figure size 640x480 with 1 Axes>"
      ]
     },
     "metadata": {},
     "output_type": "display_data"
    }
   ],
   "source": [
    "# boxplot of predicted probabilities\n",
    "plt.boxplot(y_pred_proba)\n",
    "plt.title(\"Boxplot of predicted probabilities\")\n",
    "plt.show()"
   ]
  },
  {
   "cell_type": "code",
   "execution_count": 11,
   "metadata": {},
   "outputs": [
    {
     "data": {
      "image/png": "[encoded data removed]",
      "text/plain": [
       "<Figure size 640x480 with 1 Axes>"
      ]
     },
     "metadata": {},
     "output_type": "display_data"
    }
   ],
   "source": [
    "from sklearn.metrics import roc_curve, auc\n",
    "\n",
    "# Calculate TPR and FPR\n",
    "fpr, tpr, thresholds = roc_curve(y_test, y_pred_proba, pos_label='positive')\n",
    "\n",
    "# Calculate AUC\n",
    "roc_auc = auc(fpr, tpr)\n",
    "\n",
    "# Plot ROC curve\n",
    "plt.figure()\n",
    "plt.plot(fpr, tpr, color='darkorange', lw=2, label=f'ROC curve (AUC = {roc_auc:.2f})')\n",
    "plt.plot([0, 1], [0, 1], color='navy', lw=2, linestyle='--')\n",
    "plt.xlim([0.0, 1.0])\n",
    "plt.ylim([0.0, 1.05])\n",
    "plt.xlabel('False Positive Rate')\n",
    "plt.ylabel('True Positive Rate')\n",
    "plt.title('Receiver Operating Characteristic (ROC) Curve')\n",
    "plt.legend(loc=\"lower right\")\n",
    "plt.show()"
   ]
  },
  {
   "cell_type": "code",
   "execution_count": 12,
   "metadata": {},
   "outputs": [
    {
     "name": "stdout",
     "output_type": "stream",
     "text": [
      "Prediction counts:\n",
      "negative: 1197\n",
      "positive: 3\n"
     ]
    }
   ],
   "source": [
    "# Make predictions on the test set\n",
    "y_pred = modele1.predict(X_test)\n",
    "\n",
    "# Count unique values in predictions\n",
    "values, counts = np.unique(y_pred, return_counts=True)\n",
    "\n",
    "# Create a dictionary to show the counts\n",
    "prediction_counts = dict(zip(values, counts))\n",
    "\n",
    "print(\"Prediction counts:\")\n",
    "for class_label, count in prediction_counts.items():\n",
    "    print(f\"{class_label}: {count}\")"
   ]
  },
  {
   "cell_type": "code",
   "execution_count": 13,
   "metadata": {},
   "outputs": [
    {
     "name": "stdout",
     "output_type": "stream",
     "text": [
      "Confusion Matrix:\n",
      "[[1177    2]\n",
      " [  20    1]]\n",
      "\n",
      "F1-Score: 0.08\n",
      "\n",
      "Detailed Classification Report:\n",
      "              precision    recall  f1-score   support\n",
      "\n",
      "    negative       0.98      1.00      0.99      1179\n",
      "    positive       0.33      0.05      0.08        21\n",
      "\n",
      "    accuracy                           0.98      1200\n",
      "   macro avg       0.66      0.52      0.54      1200\n",
      "weighted avg       0.97      0.98      0.97      1200\n",
      "\n"
     ]
    }
   ],
   "source": [
    "from sklearn.metrics import confusion_matrix, f1_score, classification_report\n",
    "\n",
    "# Calculate confusion matrix\n",
    "conf_matrix = confusion_matrix(y_test, y_pred)\n",
    "\n",
    "# Calculate F1-score\n",
    "f1 = f1_score(y_test, y_pred, pos_label='positive')\n",
    "\n",
    "# Print results\n",
    "print(\"Confusion Matrix:\")\n",
    "print(conf_matrix)\n",
    "print(\"\\nF1-Score:\", round(f1, 2))\n",
    "\n",
    "# Print detailed classification report\n",
    "print(\"\\nDetailed Classification Report:\")\n",
    "print(classification_report(y_test, y_pred))"
   ]
  },
  {
   "cell_type": "markdown",
   "metadata": {},
   "source": [
    "## **Données équilibrées**"
   ]
  },
  {
   "cell_type": "code",
   "execution_count": 14,
   "metadata": {},
   "outputs": [
    {
     "name": "stdout",
     "output_type": "stream",
     "text": [
      "Balanced training set distribution:\n",
      "objective\n",
      "positive    48\n",
      "negative    48\n",
      "Name: count, dtype: int64\n"
     ]
    }
   ],
   "source": [
    "# First, separate positive and negative samples from X_train and y_train\n",
    "X_train_pos = X_train[y_train == 'positive']\n",
    "y_train_pos = y_train[y_train == 'positive']\n",
    "\n",
    "X_train_neg = X_train[y_train == 'negative']\n",
    "y_train_neg = y_train[y_train == 'negative']\n",
    "\n",
    "# Get the number of positive samples\n",
    "n_positive = len(y_train_pos)\n",
    "\n",
    "# Randomly sample the same number of negative samples\n",
    "X_train_neg_sampled, _, y_train_neg_sampled, _ = train_test_split(\n",
    "    X_train_neg, \n",
    "    y_train_neg,\n",
    "    train_size=n_positive,\n",
    "    random_state=1\n",
    ")\n",
    "\n",
    "# Combine the positive and sampled negative data\n",
    "X_train_balanced = pd.concat([X_train_pos, X_train_neg_sampled])\n",
    "y_train_balanced = pd.concat([y_train_pos, y_train_neg_sampled])\n",
    "\n",
    "# Print the new class distribution\n",
    "print(\"Balanced training set distribution:\")\n",
    "print(y_train_balanced.value_counts())"
   ]
  },
  {
   "cell_type": "code",
   "execution_count": 15,
   "metadata": {},
   "outputs": [
    {
     "data": {
      "text/html": [
       "<style>#sk-container-id-1 {\n",
       "  /* Definition of color scheme common for light and dark mode */\n",
       "  --sklearn-color-text: black;\n",
       "  --sklearn-color-line: gray;\n",
       "  /* Definition of color scheme for unfitted estimators */\n",
       "  --sklearn-color-unfitted-level-0: #fff5e6;\n",
       "  --sklearn-color-unfitted-level-1: #f6e4d2;\n",
       "  --sklearn-color-unfitted-level-2: #ffe0b3;\n",
       "  --sklearn-color-unfitted-level-3: chocolate;\n",
       "  /* Definition of color scheme for fitted estimators */\n",
       "  --sklearn-color-fitted-level-0: #f0f8ff;\n",
       "  --sklearn-color-fitted-level-1: #d4ebff;\n",
       "  --sklearn-color-fitted-level-2: #b3dbfd;\n",
       "  --sklearn-color-fitted-level-3: cornflowerblue;\n",
       "\n",
       "  /* Specific color for light theme */\n",
       "  --sklearn-color-text-on-default-background: var(--sg-text-color, var(--theme-code-foreground, var(--jp-content-font-color1, black)));\n",
       "  --sklearn-color-background: var(--sg-background-color, var(--theme-background, var(--jp-layout-color0, white)));\n",
       "  --sklearn-color-border-box: var(--sg-text-color, var(--theme-code-foreground, var(--jp-content-font-color1, black)));\n",
       "  --sklearn-color-icon: #696969;\n",
       "\n",
       "  @media (prefers-color-scheme: dark) {\n",
       "    /* Redefinition of color scheme for dark theme */\n",
       "    --sklearn-color-text-on-default-background: var(--sg-text-color, var(--theme-code-foreground, var(--jp-content-font-color1, white)));\n",
       "    --sklearn-color-background: var(--sg-background-color, var(--theme-background, var(--jp-layout-color0, #111)));\n",
       "    --sklearn-color-border-box: var(--sg-text-color, var(--theme-code-foreground, var(--jp-content-font-color1, white)));\n",
       "    --sklearn-color-icon: #878787;\n",
       "  }\n",
       "}\n",
       "\n",
       "#sk-container-id-1 {\n",
       "  color: var(--sklearn-color-text);\n",
       "}\n",
       "\n",
       "#sk-container-id-1 pre {\n",
       "  padding: 0;\n",
       "}\n",
       "\n",
       "#sk-container-id-1 input.sk-hidden--visually {\n",
       "  border: 0;\n",
       "  clip: rect(1px 1px 1px 1px);\n",
       "  clip: rect(1px, 1px, 1px, 1px);\n",
       "  height: 1px;\n",
       "  margin: -1px;\n",
       "  overflow: hidden;\n",
       "  padding: 0;\n",
       "  position: absolute;\n",
       "  width: 1px;\n",
       "}\n",
       "\n",
       "#sk-container-id-1 div.sk-dashed-wrapped {\n",
       "  border: 1px dashed var(--sklearn-color-line);\n",
       "  margin: 0 0.4em 0.5em 0.4em;\n",
       "  box-sizing: border-box;\n",
       "  padding-bottom: 0.4em;\n",
       "  background-color: var(--sklearn-color-background);\n",
       "}\n",
       "\n",
       "#sk-container-id-1 div.sk-container {\n",
       "  /* jupyter's `normalize.less` sets `[hidden] { display: none; }`\n",
       "     but bootstrap.min.css set `[hidden] { display: none !important; }`\n",
       "     so we also need the `!important` here to be able to override the\n",
       "     default hidden behavior on the sphinx rendered scikit-learn.org.\n",
       "     See: https://github.com/scikit-learn/scikit-learn/issues/21755 */\n",
       "  display: inline-block !important;\n",
       "  position: relative;\n",
       "}\n",
       "\n",
       "#sk-container-id-1 div.sk-text-repr-fallback {\n",
       "  display: none;\n",
       "}\n",
       "\n",
       "div.sk-parallel-item,\n",
       "div.sk-serial,\n",
       "div.sk-item {\n",
       "  /* draw centered vertical line to link estimators */\n",
       "  background-image: linear-gradient(var(--sklearn-color-text-on-default-background), var(--sklearn-color-text-on-default-background));\n",
       "  background-size: 2px 100%;\n",
       "  background-repeat: no-repeat;\n",
       "  background-position: center center;\n",
       "}\n",
       "\n",
       "/* Parallel-specific style estimator block */\n",
       "\n",
       "#sk-container-id-1 div.sk-parallel-item::after {\n",
       "  content: \"\";\n",
       "  width: 100%;\n",
       "  border-bottom: 2px solid var(--sklearn-color-text-on-default-background);\n",
       "  flex-grow: 1;\n",
       "}\n",
       "\n",
       "#sk-container-id-1 div.sk-parallel {\n",
       "  display: flex;\n",
       "  align-items: stretch;\n",
       "  justify-content: center;\n",
       "  background-color: var(--sklearn-color-background);\n",
       "  position: relative;\n",
       "}\n",
       "\n",
       "#sk-container-id-1 div.sk-parallel-item {\n",
       "  display: flex;\n",
       "  flex-direction: column;\n",
       "}\n",
       "\n",
       "#sk-container-id-1 div.sk-parallel-item:first-child::after {\n",
       "  align-self: flex-end;\n",
       "  width: 50%;\n",
       "}\n",
       "\n",
       "#sk-container-id-1 div.sk-parallel-item:last-child::after {\n",
       "  align-self: flex-start;\n",
       "  width: 50%;\n",
       "}\n",
       "\n",
       "#sk-container-id-1 div.sk-parallel-item:only-child::after {\n",
       "  width: 0;\n",
       "}\n",
       "\n",
       "/* Serial-specific style estimator block */\n",
       "\n",
       "#sk-container-id-1 div.sk-serial {\n",
       "  display: flex;\n",
       "  flex-direction: column;\n",
       "  align-items: center;\n",
       "  background-color: var(--sklearn-color-background);\n",
       "  padding-right: 1em;\n",
       "  padding-left: 1em;\n",
       "}\n",
       "\n",
       "\n",
       "/* Toggleable style: style used for estimator/Pipeline/ColumnTransformer box that is\n",
       "clickable and can be expanded/collapsed.\n",
       "- Pipeline and ColumnTransformer use this feature and define the default style\n",
       "- Estimators will overwrite some part of the style using the `sk-estimator` class\n",
       "*/\n",
       "\n",
       "/* Pipeline and ColumnTransformer style (default) */\n",
       "\n",
       "#sk-container-id-1 div.sk-toggleable {\n",
       "  /* Default theme specific background. It is overwritten whether we have a\n",
       "  specific estimator or a Pipeline/ColumnTransformer */\n",
       "  background-color: var(--sklearn-color-background);\n",
       "}\n",
       "\n",
       "/* Toggleable label */\n",
       "#sk-container-id-1 label.sk-toggleable__label {\n",
       "  cursor: pointer;\n",
       "  display: block;\n",
       "  width: 100%;\n",
       "  margin-bottom: 0;\n",
       "  padding: 0.5em;\n",
       "  box-sizing: border-box;\n",
       "  text-align: center;\n",
       "}\n",
       "\n",
       "#sk-container-id-1 label.sk-toggleable__label-arrow:before {\n",
       "  /* Arrow on the left of the label */\n",
       "  content: \"▸\";\n",
       "  float: left;\n",
       "  margin-right: 0.25em;\n",
       "  color: var(--sklearn-color-icon);\n",
       "}\n",
       "\n",
       "#sk-container-id-1 label.sk-toggleable__label-arrow:hover:before {\n",
       "  color: var(--sklearn-color-text);\n",
       "}\n",
       "\n",
       "/* Toggleable content - dropdown */\n",
       "\n",
       "#sk-container-id-1 div.sk-toggleable__content {\n",
       "  max-height: 0;\n",
       "  max-width: 0;\n",
       "  overflow: hidden;\n",
       "  text-align: left;\n",
       "  /* unfitted */\n",
       "  background-color: var(--sklearn-color-unfitted-level-0);\n",
       "}\n",
       "\n",
       "#sk-container-id-1 div.sk-toggleable__content.fitted {\n",
       "  /* fitted */\n",
       "  background-color: var(--sklearn-color-fitted-level-0);\n",
       "}\n",
       "\n",
       "#sk-container-id-1 div.sk-toggleable__content pre {\n",
       "  margin: 0.2em;\n",
       "  border-radius: 0.25em;\n",
       "  color: var(--sklearn-color-text);\n",
       "  /* unfitted */\n",
       "  background-color: var(--sklearn-color-unfitted-level-0);\n",
       "}\n",
       "\n",
       "#sk-container-id-1 div.sk-toggleable__content.fitted pre {\n",
       "  /* unfitted */\n",
       "  background-color: var(--sklearn-color-fitted-level-0);\n",
       "}\n",
       "\n",
       "#sk-container-id-1 input.sk-toggleable__control:checked~div.sk-toggleable__content {\n",
       "  /* Expand drop-down */\n",
       "  max-height: 200px;\n",
       "  max-width: 100%;\n",
       "  overflow: auto;\n",
       "}\n",
       "\n",
       "#sk-container-id-1 input.sk-toggleable__control:checked~label.sk-toggleable__label-arrow:before {\n",
       "  content: \"▾\";\n",
       "}\n",
       "\n",
       "/* Pipeline/ColumnTransformer-specific style */\n",
       "\n",
       "#sk-container-id-1 div.sk-label input.sk-toggleable__control:checked~label.sk-toggleable__label {\n",
       "  color: var(--sklearn-color-text);\n",
       "  background-color: var(--sklearn-color-unfitted-level-2);\n",
       "}\n",
       "\n",
       "#sk-container-id-1 div.sk-label.fitted input.sk-toggleable__control:checked~label.sk-toggleable__label {\n",
       "  background-color: var(--sklearn-color-fitted-level-2);\n",
       "}\n",
       "\n",
       "/* Estimator-specific style */\n",
       "\n",
       "/* Colorize estimator box */\n",
       "#sk-container-id-1 div.sk-estimator input.sk-toggleable__control:checked~label.sk-toggleable__label {\n",
       "  /* unfitted */\n",
       "  background-color: var(--sklearn-color-unfitted-level-2);\n",
       "}\n",
       "\n",
       "#sk-container-id-1 div.sk-estimator.fitted input.sk-toggleable__control:checked~label.sk-toggleable__label {\n",
       "  /* fitted */\n",
       "  background-color: var(--sklearn-color-fitted-level-2);\n",
       "}\n",
       "\n",
       "#sk-container-id-1 div.sk-label label.sk-toggleable__label,\n",
       "#sk-container-id-1 div.sk-label label {\n",
       "  /* The background is the default theme color */\n",
       "  color: var(--sklearn-color-text-on-default-background);\n",
       "}\n",
       "\n",
       "/* On hover, darken the color of the background */\n",
       "#sk-container-id-1 div.sk-label:hover label.sk-toggleable__label {\n",
       "  color: var(--sklearn-color-text);\n",
       "  background-color: var(--sklearn-color-unfitted-level-2);\n",
       "}\n",
       "\n",
       "/* Label box, darken color on hover, fitted */\n",
       "#sk-container-id-1 div.sk-label.fitted:hover label.sk-toggleable__label.fitted {\n",
       "  color: var(--sklearn-color-text);\n",
       "  background-color: var(--sklearn-color-fitted-level-2);\n",
       "}\n",
       "\n",
       "/* Estimator label */\n",
       "\n",
       "#sk-container-id-1 div.sk-label label {\n",
       "  font-family: monospace;\n",
       "  font-weight: bold;\n",
       "  display: inline-block;\n",
       "  line-height: 1.2em;\n",
       "}\n",
       "\n",
       "#sk-container-id-1 div.sk-label-container {\n",
       "  text-align: center;\n",
       "}\n",
       "\n",
       "/* Estimator-specific */\n",
       "#sk-container-id-1 div.sk-estimator {\n",
       "  font-family: monospace;\n",
       "  border: 1px dotted var(--sklearn-color-border-box);\n",
       "  border-radius: 0.25em;\n",
       "  box-sizing: border-box;\n",
       "  margin-bottom: 0.5em;\n",
       "  /* unfitted */\n",
       "  background-color: var(--sklearn-color-unfitted-level-0);\n",
       "}\n",
       "\n",
       "#sk-container-id-1 div.sk-estimator.fitted {\n",
       "  /* fitted */\n",
       "  background-color: var(--sklearn-color-fitted-level-0);\n",
       "}\n",
       "\n",
       "/* on hover */\n",
       "#sk-container-id-1 div.sk-estimator:hover {\n",
       "  /* unfitted */\n",
       "  background-color: var(--sklearn-color-unfitted-level-2);\n",
       "}\n",
       "\n",
       "#sk-container-id-1 div.sk-estimator.fitted:hover {\n",
       "  /* fitted */\n",
       "  background-color: var(--sklearn-color-fitted-level-2);\n",
       "}\n",
       "\n",
       "/* Specification for estimator info (e.g. \"i\" and \"?\") */\n",
       "\n",
       "/* Common style for \"i\" and \"?\" */\n",
       "\n",
       ".sk-estimator-doc-link,\n",
       "a:link.sk-estimator-doc-link,\n",
       "a:visited.sk-estimator-doc-link {\n",
       "  float: right;\n",
       "  font-size: smaller;\n",
       "  line-height: 1em;\n",
       "  font-family: monospace;\n",
       "  background-color: var(--sklearn-color-background);\n",
       "  border-radius: 1em;\n",
       "  height: 1em;\n",
       "  width: 1em;\n",
       "  text-decoration: none !important;\n",
       "  margin-left: 1ex;\n",
       "  /* unfitted */\n",
       "  border: var(--sklearn-color-unfitted-level-1) 1pt solid;\n",
       "  color: var(--sklearn-color-unfitted-level-1);\n",
       "}\n",
       "\n",
       ".sk-estimator-doc-link.fitted,\n",
       "a:link.sk-estimator-doc-link.fitted,\n",
       "a:visited.sk-estimator-doc-link.fitted {\n",
       "  /* fitted */\n",
       "  border: var(--sklearn-color-fitted-level-1) 1pt solid;\n",
       "  color: var(--sklearn-color-fitted-level-1);\n",
       "}\n",
       "\n",
       "/* On hover */\n",
       "div.sk-estimator:hover .sk-estimator-doc-link:hover,\n",
       ".sk-estimator-doc-link:hover,\n",
       "div.sk-label-container:hover .sk-estimator-doc-link:hover,\n",
       ".sk-estimator-doc-link:hover {\n",
       "  /* unfitted */\n",
       "  background-color: var(--sklearn-color-unfitted-level-3);\n",
       "  color: var(--sklearn-color-background);\n",
       "  text-decoration: none;\n",
       "}\n",
       "\n",
       "div.sk-estimator.fitted:hover .sk-estimator-doc-link.fitted:hover,\n",
       ".sk-estimator-doc-link.fitted:hover,\n",
       "div.sk-label-container:hover .sk-estimator-doc-link.fitted:hover,\n",
       ".sk-estimator-doc-link.fitted:hover {\n",
       "  /* fitted */\n",
       "  background-color: var(--sklearn-color-fitted-level-3);\n",
       "  color: var(--sklearn-color-background);\n",
       "  text-decoration: none;\n",
       "}\n",
       "\n",
       "/* Span, style for the box shown on hovering the info icon */\n",
       ".sk-estimator-doc-link span {\n",
       "  display: none;\n",
       "  z-index: 9999;\n",
       "  position: relative;\n",
       "  font-weight: normal;\n",
       "  right: .2ex;\n",
       "  padding: .5ex;\n",
       "  margin: .5ex;\n",
       "  width: min-content;\n",
       "  min-width: 20ex;\n",
       "  max-width: 50ex;\n",
       "  color: var(--sklearn-color-text);\n",
       "  box-shadow: 2pt 2pt 4pt #999;\n",
       "  /* unfitted */\n",
       "  background: var(--sklearn-color-unfitted-level-0);\n",
       "  border: .5pt solid var(--sklearn-color-unfitted-level-3);\n",
       "}\n",
       "\n",
       ".sk-estimator-doc-link.fitted span {\n",
       "  /* fitted */\n",
       "  background: var(--sklearn-color-fitted-level-0);\n",
       "  border: var(--sklearn-color-fitted-level-3);\n",
       "}\n",
       "\n",
       ".sk-estimator-doc-link:hover span {\n",
       "  display: block;\n",
       "}\n",
       "\n",
       "/* \"?\"-specific style due to the `<a>` HTML tag */\n",
       "\n",
       "#sk-container-id-1 a.estimator_doc_link {\n",
       "  float: right;\n",
       "  font-size: 1rem;\n",
       "  line-height: 1em;\n",
       "  font-family: monospace;\n",
       "  background-color: var(--sklearn-color-background);\n",
       "  border-radius: 1rem;\n",
       "  height: 1rem;\n",
       "  width: 1rem;\n",
       "  text-decoration: none;\n",
       "  /* unfitted */\n",
       "  color: var(--sklearn-color-unfitted-level-1);\n",
       "  border: var(--sklearn-color-unfitted-level-1) 1pt solid;\n",
       "}\n",
       "\n",
       "#sk-container-id-1 a.estimator_doc_link.fitted {\n",
       "  /* fitted */\n",
       "  border: var(--sklearn-color-fitted-level-1) 1pt solid;\n",
       "  color: var(--sklearn-color-fitted-level-1);\n",
       "}\n",
       "\n",
       "/* On hover */\n",
       "#sk-container-id-1 a.estimator_doc_link:hover {\n",
       "  /* unfitted */\n",
       "  background-color: var(--sklearn-color-unfitted-level-3);\n",
       "  color: var(--sklearn-color-background);\n",
       "  text-decoration: none;\n",
       "}\n",
       "\n",
       "#sk-container-id-1 a.estimator_doc_link.fitted:hover {\n",
       "  /* fitted */\n",
       "  background-color: var(--sklearn-color-fitted-level-3);\n",
       "}\n",
       "</style><div id=\"sk-container-id-1\" class=\"sk-top-container\"><div class=\"sk-text-repr-fallback\"><pre>LogisticRegression(random_state=1, solver=&#x27;liblinear&#x27;)</pre><b>In a Jupyter environment, please rerun this cell to show the HTML representation or trust the notebook. <br />On GitHub, the HTML representation is unable to render, please try loading this page with nbviewer.org.</b></div><div class=\"sk-container\" hidden><div class=\"sk-item\"><div class=\"sk-estimator fitted sk-toggleable\"><input class=\"sk-toggleable__control sk-hidden--visually\" id=\"sk-estimator-id-1\" type=\"checkbox\" checked><label for=\"sk-estimator-id-1\" class=\"sk-toggleable__label fitted sk-toggleable__label-arrow fitted\">&nbsp;&nbsp;LogisticRegression<a class=\"sk-estimator-doc-link fitted\" rel=\"noreferrer\" target=\"_blank\" href=\"https://scikit-learn.org/1.5/modules/generated/sklearn.linear_model.LogisticRegression.html\">?<span>Documentation for LogisticRegression</span></a><span class=\"sk-estimator-doc-link fitted\">i<span>Fitted</span></span></label><div class=\"sk-toggleable__content fitted\"><pre>LogisticRegression(random_state=1, solver=&#x27;liblinear&#x27;)</pre></div> </div></div></div></div>"
      ],
      "text/plain": [
       "LogisticRegression(random_state=1, solver='liblinear')"
      ]
     },
     "execution_count": 15,
     "metadata": {},
     "output_type": "execute_result"
    }
   ],
   "source": [
    "# buil the model2 on balanced data\n",
    "modele2 = LogisticRegression(random_state=1, solver='liblinear')\n",
    "modele2.fit(X_train_balanced, y_train_balanced)\n"
   ]
  },
  {
   "cell_type": "code",
   "execution_count": 16,
   "metadata": {},
   "outputs": [
    {
     "name": "stdout",
     "output_type": "stream",
     "text": [
      "Mean probability for positive class: 0.2939\n"
     ]
    }
   ],
   "source": [
    "# Calculate predicted probabilities for the balanced model\n",
    "y_pred_proba_balanced = modele2.predict_proba(X_test)[:,1]\n",
    "\n",
    "# Calculate and print the mean probability for the positive class\n",
    "print(\"Mean probability for positive class:\", round(y_pred_proba_balanced.mean(), 4))"
   ]
  },
  {
   "cell_type": "code",
   "execution_count": 17,
   "metadata": {},
   "outputs": [
    {
     "data": {
      "image/png": "[encoded data removed]",
      "text/plain": [
       "<Figure size 640x480 with 1 Axes>"
      ]
     },
     "metadata": {},
     "output_type": "display_data"
    }
   ],
   "source": [
    "# boxplot of predicted probabilities\n",
    "plt.boxplot(y_pred_proba_balanced)\n",
    "plt.title(\"Boxplot of predicted probabilities\")\n",
    "plt.show()"
   ]
  },
  {
   "cell_type": "code",
   "execution_count": 18,
   "metadata": {},
   "outputs": [
    {
     "data": {
      "image/png": "[encoded data removed]",
      "text/plain": [
       "<Figure size 800x600 with 1 Axes>"
      ]
     },
     "metadata": {},
     "output_type": "display_data"
    },
    {
     "name": "stdout",
     "output_type": "stream",
     "text": [
      "\n",
      "AUC Scores:\n",
      "Original Model: 0.824\n",
      "Balanced Model: 0.838\n"
     ]
    }
   ],
   "source": [
    "from sklearn.metrics import roc_curve, auc\n",
    "\n",
    "# Calculate ROC curve metrics for modele2\n",
    "fpr_balanced, tpr_balanced, _ = roc_curve(y_test, y_pred_proba_balanced, pos_label='positive')\n",
    "roc_auc_balanced = auc(fpr_balanced, tpr_balanced)\n",
    "\n",
    "# Plot ROC curves for both models\n",
    "plt.figure(figsize=(8, 6))\n",
    "plt.plot(fpr, tpr, color='blue', lw=2, label=f'Original Model (AUC = {roc_auc:.2f})')\n",
    "plt.plot(fpr_balanced, tpr_balanced, color='red', lw=2, label=f'Balanced Model (AUC = {roc_auc_balanced:.2f})')\n",
    "plt.plot([0, 1], [0, 1], color='navy', lw=2, linestyle='--')\n",
    "plt.xlim([0.0, 1.0])\n",
    "plt.ylim([0.0, 1.05])\n",
    "plt.xlabel('False Positive Rate')\n",
    "plt.ylabel('True Positive Rate')\n",
    "plt.title('ROC Curves Comparison')\n",
    "plt.legend(loc=\"lower right\")\n",
    "plt.show()\n",
    "\n",
    "print(\"\\nAUC Scores:\")\n",
    "print(f\"Original Model: {roc_auc:.3f}\")\n",
    "print(f\"Balanced Model: {roc_auc_balanced:.3f}\")"
   ]
  },
  {
   "cell_type": "code",
   "execution_count": 19,
   "metadata": {},
   "outputs": [
    {
     "name": "stdout",
     "output_type": "stream",
     "text": [
      "Prediction counts for balanced model:\n",
      "negative: 907\n",
      "positive: 293\n"
     ]
    }
   ],
   "source": [
    "# Make predictions on the test set using the balanced model\n",
    "y_pred_balanced = modele2.predict(X_test)\n",
    "\n",
    "# Count unique values in predictions\n",
    "values_balanced, counts_balanced = np.unique(y_pred_balanced, return_counts=True)\n",
    "prediction_counts_balanced = dict(zip(values_balanced, counts_balanced))\n",
    "\n",
    "print(\"Prediction counts for balanced model:\")\n",
    "for class_label, count in prediction_counts_balanced.items():\n",
    "    print(f\"{class_label}: {count}\")"
   ]
  },
  {
   "cell_type": "markdown",
   "metadata": {},
   "source": [
    "## **Données représentatives - ajustement du seuil d’affectation**"
   ]
  },
  {
   "cell_type": "code",
   "execution_count": 20,
   "metadata": {},
   "outputs": [
    {
     "data": {
      "image/png": "[encoded data removed]",
      "text/plain": [
       "<Figure size 1000x600 with 1 Axes>"
      ]
     },
     "metadata": {},
     "output_type": "display_data"
    },
    {
     "name": "stdout",
     "output_type": "stream",
     "text": [
      "Optimal threshold: 0.160\n",
      "Best F1 score: 0.182\n"
     ]
    }
   ],
   "source": [
    "from sklearn.metrics import f1_score\n",
    "import numpy as np\n",
    "\n",
    "# Create array of thresholds to test\n",
    "thresholds = np.arange(0, 1, 0.01)\n",
    "\n",
    "# Initialize lists to store results\n",
    "f1_scores = []\n",
    "thresholds_list = []\n",
    "\n",
    "# Calculate F1 score for each threshold\n",
    "for threshold in thresholds:\n",
    "    # Convert probabilities to predictions based on threshold\n",
    "    y_pred_threshold = (y_pred_proba >= threshold).astype(int)\n",
    "    # Convert numeric predictions to labels\n",
    "    y_pred_labels = np.where(y_pred_threshold == 1, 'positive', 'negative')\n",
    "    # Calculate F1 score\n",
    "    f1 = f1_score(y_test, y_pred_labels, pos_label='positive')\n",
    "    f1_scores.append(f1)\n",
    "    thresholds_list.append(threshold)\n",
    "\n",
    "# Find optimal threshold\n",
    "optimal_idx = np.argmax(f1_scores)\n",
    "optimal_threshold = thresholds_list[optimal_idx]\n",
    "best_f1 = f1_scores[optimal_idx]\n",
    "\n",
    "# Plot F1 scores vs thresholds\n",
    "plt.figure(figsize=(10, 6))\n",
    "plt.plot(thresholds_list, f1_scores)\n",
    "plt.axvline(x=optimal_threshold, color='r', linestyle='--')\n",
    "plt.xlabel('Threshold')\n",
    "plt.ylabel('F1 Score')\n",
    "plt.title('F1 Score vs Threshold')\n",
    "plt.grid(True)\n",
    "plt.show()\n",
    "\n",
    "print(f\"Optimal threshold: {optimal_threshold:.3f}\")\n",
    "print(f\"Best F1 score: {best_f1:.3f}\")"
   ]
  },
  {
   "cell_type": "code",
   "execution_count": 21,
   "metadata": {},
   "outputs": [
    {
     "name": "stdout",
     "output_type": "stream",
     "text": [
      "Optimal threshold: 0.160\n",
      "Best F1 score: 0.182\n",
      "\n",
      "Confusion Matrix with optimal threshold:\n",
      "[[1170    9]\n",
      " [  18    3]]\n",
      "\n",
      "Classification Report with optimal threshold:\n",
      "              precision    recall  f1-score   support\n",
      "\n",
      "    negative       0.98      0.99      0.99      1179\n",
      "    positive       0.25      0.14      0.18        21\n",
      "\n",
      "    accuracy                           0.98      1200\n",
      "   macro avg       0.62      0.57      0.59      1200\n",
      "weighted avg       0.97      0.98      0.97      1200\n",
      "\n"
     ]
    }
   ],
   "source": [
    "# The optimal threshold was already found in cell 23\n",
    "print(f\"Optimal threshold: {optimal_threshold:.3f}\")\n",
    "print(f\"Best F1 score: {best_f1:.3f}\")\n",
    "\n",
    "# Apply the optimal threshold to get predictions\n",
    "y_pred_optimal = (y_pred_proba >= optimal_threshold).astype(int)\n",
    "y_pred_labels_optimal = np.where(y_pred_optimal == 1, 'positive', 'negative')\n",
    "\n",
    "# Calculate and print confusion matrix with optimal threshold\n",
    "conf_matrix_optimal = confusion_matrix(y_test, y_pred_labels_optimal)\n",
    "print(\"\\nConfusion Matrix with optimal threshold:\")\n",
    "print(conf_matrix_optimal)\n",
    "\n",
    "# Print classification report with optimal threshold\n",
    "print(\"\\nClassification Report with optimal threshold:\")\n",
    "print(classification_report(y_test, y_pred_labels_optimal))"
   ]
  },
  {
   "cell_type": "code",
   "execution_count": 22,
   "metadata": {},
   "outputs": [
    {
     "name": "stdout",
     "output_type": "stream",
     "text": [
      "Prediction counts with optimal threshold (0.16):\n",
      "negative: 1188\n",
      "positive: 12\n"
     ]
    }
   ],
   "source": [
    "# Create predictions using the optimal threshold\n",
    "y_pred_with_new_threshold = (y_pred_proba >= optimal_threshold).astype(int)\n",
    "y_pred_labels_with_new_threshold = np.where(y_pred_with_new_threshold == 1, 'positive', 'negative')\n",
    "\n",
    "# Count the predictions\n",
    "unique_values, counts = np.unique(y_pred_labels_with_new_threshold, return_counts=True)\n",
    "prediction_counts = dict(zip(unique_values, counts))\n",
    "\n",
    "# Print the results\n",
    "print(\"Prediction counts with optimal threshold (0.16):\")\n",
    "for class_label, count in prediction_counts.items():\n",
    "    print(f\"{class_label}: {count}\")"
   ]
  },
  {
   "cell_type": "code",
   "execution_count": 23,
   "metadata": {},
   "outputs": [
    {
     "name": "stdout",
     "output_type": "stream",
     "text": [
      "Original Model (modele1):\n",
      "Confusion Matrix:\n",
      "[[1177    2]\n",
      " [  20    1]]\n",
      "F1-Score: 0.083\n",
      "\n",
      "Balanced Model (modele2):\n",
      "Confusion Matrix:\n",
      "[[902 277]\n",
      " [  5  16]]\n",
      "F1-Score: 0.102\n",
      "\n",
      "Optimal Threshold Model (threshold = 0.16):\n",
      "Confusion Matrix:\n",
      "[[1170    9]\n",
      " [  18    3]]\n",
      "F1-Score: 0.182\n"
     ]
    }
   ],
   "source": [
    "from sklearn.metrics import confusion_matrix, f1_score\n",
    "\n",
    "# For the original model (modele1)\n",
    "conf_matrix1 = confusion_matrix(y_test, y_pred)\n",
    "f1_score1 = f1_score(y_test, y_pred, pos_label='positive')\n",
    "\n",
    "# For the balanced model (modele2)\n",
    "conf_matrix2 = confusion_matrix(y_test, y_pred_balanced)\n",
    "f1_score2 = f1_score(y_test, y_pred_balanced, pos_label='positive')\n",
    "\n",
    "# Print results\n",
    "print(\"Original Model (modele1):\")\n",
    "print(\"Confusion Matrix:\")\n",
    "print(conf_matrix1)\n",
    "print(f\"F1-Score: {f1_score1:.3f}\")\n",
    "\n",
    "print(\"\\nBalanced Model (modele2):\")\n",
    "print(\"Confusion Matrix:\")\n",
    "print(conf_matrix2)\n",
    "print(f\"F1-Score: {f1_score2:.3f}\")\n",
    "\n",
    "# For the optimal threshold model\n",
    "y_pred_optimal = (y_pred_proba >= optimal_threshold).astype(int)\n",
    "y_pred_labels_optimal = np.where(y_pred_optimal == 1, 'positive', 'negative')\n",
    "conf_matrix_opt = confusion_matrix(y_test, y_pred_labels_optimal)\n",
    "f1_score_opt = f1_score(y_test, y_pred_labels_optimal, pos_label='positive')\n",
    "\n",
    "print(\"\\nOptimal Threshold Model (threshold = 0.16):\")\n",
    "print(\"Confusion Matrix:\")\n",
    "print(conf_matrix_opt)\n",
    "print(f\"F1-Score: {f1_score_opt:.3f}\")"
   ]
  },
  {
   "cell_type": "code",
   "execution_count": null,
   "metadata": {
    "vscode": {
     "languageId": "lua"
    }
   },
   "outputs": [],
   "source": [
    "# Print summary of all three approaches\n",
    "print(\"Summary of Model Performance:\\n\")\n",
    "\n",
    "print(\"1. Original Model (Default threshold = 0.5):\")\n",
    "print(f\"F1-Score: {f1_score1:.3f}\")\n",
    "print(\"Predictions distribution:\")\n",
    "print(\"Negative:\", prediction_counts['negative'])\n",
    "print(\"Positive:\", prediction_counts['positive'])\n",
    "print(\"\\n2. Balanced Training Model:\")\n",
    "print(f\"F1-Score: {f1_score2:.3f}\")\n",
    "print(\"Predictions distribution:\")\n",
    "print(\"Negative:\", prediction_counts_balanced['negative'])\n",
    "print(\"Positive:\", prediction_counts_balanced['positive'])\n",
    "print(\"\\n3. Optimal Threshold Model (threshold = 0.16):\")\n",
    "print(f\"F1-Score: {f1_score_opt:.3f}\")\n",
    "print(\"Predictions distribution:\")\n",
    "print(\"Negative:\", conf_matrix_opt[0,0] + conf_matrix_opt[0,1])\n",
    "print(\"Positive:\", conf_matrix_opt[1,0] + conf_matrix_opt[1,1])\n",
    "\n",
    "print(\"\\nConclusions:\")\n",
    "print(\"- The optimal threshold approach (0.16) gives the best F1-score of\", round(f1_score_opt, 3))\n",
    "print(\"- The balanced training approach improved prediction of minority class\")\n",
    "print(\"- ROC AUC scores show both balanced (0.838) and optimal threshold (0.824) approaches\")\n",
    "print(\"  perform better than the original model\")"
   ]
  }
 ],
 "metadata": {
  "kernelspec": {
   "display_name": "envM2SISE",
   "language": "python",
   "name": "python3"
  },
  "language_info": {
   "codemirror_mode": {
    "name": "ipython",
    "version": 3
   },
   "file_extension": ".py",
   "mimetype": "text/x-python",
   "name": "python",
   "nbconvert_exporter": "python",
   "pygments_lexer": "ipython3",
   "version": "3.10.11"
  }
 },
 "nbformat": 4,
 "nbformat_minor": 2
}
