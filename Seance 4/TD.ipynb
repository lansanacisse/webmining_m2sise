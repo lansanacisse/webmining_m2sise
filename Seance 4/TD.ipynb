{
 "cells": [
  {
   "cell_type": "code",
   "execution_count": null,
   "metadata": {},
   "outputs": [],
   "source": [
    "# import libaries\n",
    "import os\n",
    "import pandas as pd\n",
    "import numpy as np\n",
    "import polars as pl\n",
    "import mlxtend as ml"
   ]
  },
  {
   "cell_type": "code",
   "execution_count": null,
   "metadata": {},
   "outputs": [],
   "source": [
    "# import data\n",
    "df = pl.read_excel(\"data_seance_4/clients banque.xlsx\")"
   ]
  },
  {
   "cell_type": "code",
   "execution_count": null,
   "metadata": {},
   "outputs": [],
   "source": [
    "# head of data\n",
    "print(df.head())"
   ]
  },
  {
   "cell_type": "code",
   "execution_count": null,
   "metadata": {},
   "outputs": [],
   "source": [
    "# names of columns\n",
    "print(df.columns)"
   ]
  },
  {
   "cell_type": "code",
   "execution_count": null,
   "metadata": {},
   "outputs": [],
   "source": [
    "# create a new df without Note attribuée\n",
    "df_filtred = df.drop(\"note attribuee\")"
   ]
  },
  {
   "cell_type": "code",
   "execution_count": null,
   "metadata": {},
   "outputs": [],
   "source": [
    "# get_dimunus\n",
    "df_filtred.to_dummies()"
   ]
  },
  {
   "cell_type": "code",
   "execution_count": null,
   "metadata": {},
   "outputs": [],
   "source": [
    "# For the original df (using Age du client as numeric column)\n",
    "count_23_40_df = df.filter(pl.col(\"Age du client\") == \"de 23 a 40 ans\").shape[0]\n",
    "\n",
    "# For df_filtred (using string column)\n",
    "count_23_40_df_filtred = df_filtred.filter(pl.col(\"Age du client\") == \"de 23 a 40 ans\").shape[0]\n",
    "\n",
    "print(f\"Number of clients aged 23-40 in original df: {count_23_40_df}\")\n",
    "print(f\"Number of clients aged 23-40 in filtered df: {count_23_40_df_filtred}\")\n"
   ]
  },
  {
   "cell_type": "markdown",
   "metadata": {},
   "source": [
    "### **ON S’INTERESSE AUX ITEMSETS FREQUENTS**\n"
   ]
  },
  {
   "cell_type": "code",
   "execution_count": null,
   "metadata": {},
   "outputs": [],
   "source": [
    "# modifie the number of lines to display with polar\n",
    "pl.Config.set_tbl_cols(50)"
   ]
  },
  {
   "cell_type": "code",
   "execution_count": null,
   "metadata": {},
   "outputs": [],
   "source": [
    "from mlxtend.frequent_patterns import apriori\n",
    "\n",
    "# Convert polars DataFrame to pandas DataFrame\n",
    "df_pandas = df_filtred.to_pandas()\n",
    "\n",
    "# Create boolean DataFrame (get_dummies)\n",
    "df_encoded = pd.get_dummies(df_pandas)\n"
   ]
  },
  {
   "cell_type": "code",
   "execution_count": 19,
   "metadata": {},
   "outputs": [
    {
     "name": "stdout",
     "output_type": "stream",
     "text": [
      "     support                                           itemsets\n",
      "5   0.880342       (Interdiction de chequier_chequier autorise)\n",
      "1   0.784188         (Domiciliation de l_epargne_pas d_epargne)\n",
      "0   0.670940        (Domiciliation du salaire_domicile salaire)\n",
      "10  0.670940  (Domiciliation de l_epargne_pas d_epargne, Int...\n",
      "3   0.655983             (Moyenne en cours_de 2 a 5 KF encours)\n",
      "8   0.613248  (Domiciliation du salaire_domicile salaire, In...\n",
      "9   0.600427  (Moyenne en cours_de 2 a 5 KF encours, Domicil...\n",
      "11  0.576923  (Moyenne en cours_de 2 a 5 KF encours, Interdi...\n",
      "4   0.559829     (Autorisation de decouvert_decouvert interdit)\n",
      "12  0.521368  (Autorisation de decouvert_decouvert interdit,...\n",
      "2   0.510684                               (Profession_employe)\n",
      "6   0.504274                        (Type de client_bon client)\n",
      "7   0.502137  (Domiciliation du salaire_domicile salaire, Do...\n"
     ]
    }
   ],
   "source": [
    "# Apply apriori algorithm\n",
    "frequent_itemsets = apriori(df_encoded, \n",
    "                          min_support=0.5,    # 50% support threshold\n",
    "                          max_len=2,          # Maximum length of 2 items\n",
    "                          use_colnames=True)\n",
    "\n",
    "# Sort by support value in descending order\n",
    "frequent_itemsets = frequent_itemsets.sort_values('support', ascending=False)\n",
    "\n",
    "# Display results\n",
    "print(frequent_itemsets)"
   ]
  },
  {
   "cell_type": "code",
   "execution_count": 20,
   "metadata": {},
   "outputs": [
    {
     "name": "stdout",
     "output_type": "stream",
     "text": [
      "<class 'pandas.core.frame.DataFrame'>\n"
     ]
    }
   ],
   "source": [
    "# type d'object \n",
    "print(type(frequent_itemsets))"
   ]
  },
  {
   "cell_type": "code",
   "execution_count": 21,
   "metadata": {},
   "outputs": [],
   "source": [
    "# filter the result with a itemset of 2\n",
    "frequent_itemsets_2 = frequent_itemsets[frequent_itemsets['itemsets'].map(len) == 2]"
   ]
  },
  {
   "cell_type": "code",
   "execution_count": 22,
   "metadata": {},
   "outputs": [
    {
     "name": "stdout",
     "output_type": "stream",
     "text": [
      "     support                                           itemsets\n",
      "10  0.670940  (Domiciliation de l_epargne_pas d_epargne, Int...\n",
      "8   0.613248  (Domiciliation du salaire_domicile salaire, In...\n",
      "9   0.600427  (Moyenne en cours_de 2 a 5 KF encours, Domicil...\n",
      "11  0.576923  (Moyenne en cours_de 2 a 5 KF encours, Interdi...\n",
      "12  0.521368  (Autorisation de decouvert_decouvert interdit,...\n",
      "7   0.502137  (Domiciliation du salaire_domicile salaire, Do...\n"
     ]
    }
   ],
   "source": [
    "# print the result\n",
    "print(frequent_itemsets_2)"
   ]
  },
  {
   "cell_type": "code",
   "execution_count": 23,
   "metadata": {},
   "outputs": [
    {
     "name": "stdout",
     "output_type": "stream",
     "text": [
      "Manual support calculation: 0.521368\n",
      "Apriori support value: 0.521368\n"
     ]
    }
   ],
   "source": [
    "# Calculate the support manually\n",
    "total_rows = len(df_pandas)\n",
    "matching_rows = df_pandas[\n",
    "    (df_pandas['Autorisation de decouvert'] == 'decouvert interdit') & \n",
    "    (df_pandas['Interdiction de chequier'] == 'chequier autorise')\n",
    "].shape[0]\n",
    "\n",
    "support = matching_rows / total_rows\n",
    "print(f\"Manual support calculation: {support:.6f}\")\n",
    "\n",
    "# Get the support value from apriori results for comparison\n",
    "apriori_support = frequent_itemsets_2[\n",
    "    frequent_itemsets_2['itemsets'] == frozenset({\n",
    "        'Autorisation de decouvert_decouvert interdit',\n",
    "        'Interdiction de chequier_chequier autorise'\n",
    "    })\n",
    "]['support'].values[0]\n",
    "print(f\"Apriori support value: {apriori_support:.6f}\")"
   ]
  },
  {
   "cell_type": "code",
   "execution_count": 29,
   "metadata": {},
   "outputs": [
    {
     "name": "stdout",
     "output_type": "stream",
     "text": [
      "frozenset({'Domiciliation de l_epargne_pas d_epargne', 'Interdiction de chequier_chequier autorise'})\n",
      "frozenset({'Domiciliation du salaire_domicile salaire', 'Interdiction de chequier_chequier autorise'})\n",
      "frozenset({'Moyenne en cours_de 2 a 5 KF encours', 'Interdiction de chequier_chequier autorise'})\n",
      "frozenset({'Autorisation de decouvert_decouvert interdit', 'Interdiction de chequier_chequier autorise'})\n"
     ]
    }
   ],
   "source": [
    "for items in frequent_itemsets_2[\"itemsets\"]:\n",
    "    # search for the itemset containing \"Interdiction_de_chequier\"\n",
    "    if \"Interdiction de chequier_chequier autorise\" in items:\n",
    "        print(items)"
   ]
  },
  {
   "cell_type": "code",
   "execution_count": 31,
   "metadata": {
    "vscode": {
     "languageId": "ruby"
    }
   },
   "outputs": [
    {
     "name": "stdout",
     "output_type": "stream",
     "text": [
      "\n",
      "Configurations sorted by percentage of good clients:\n",
      "                                       Configuration  Total Clients  \\\n",
      "0             decouvert interdit + chequier autorise            244   \n",
      "2             decouvert autorise + chequier autorise            168   \n",
      "3             decouvert autorise + chequier interdit             37   \n",
      "1             decouvert interdit + chequier interdit             18   \n",
      "4  Autorisation de decouvert + Interdiction de ch...              1   \n",
      "\n",
      "   Good Clients %  Bad Clients %  \n",
      "0       61.475410      38.524590  \n",
      "2       47.619048      52.380952  \n",
      "3       16.216216      83.783784  \n",
      "1        0.000000     100.000000  \n",
      "4        0.000000       0.000000  \n"
     ]
    }
   ],
   "source": [
    "# Calculate proportions for each configuration\n",
    "config_stats = []\n",
    "\n",
    "for decouvert in df_pandas['Autorisation de decouvert'].unique():\n",
    "    for chequier in df_pandas['Interdiction de chequier'].unique():\n",
    "        # Filter for this configuration\n",
    "        mask = (df_pandas['Autorisation de decouvert'] == decouvert) & \\\n",
    "               (df_pandas['Interdiction de chequier'] == chequier)\n",
    "        config_df = df_pandas[mask]\n",
    "        \n",
    "        if len(config_df) > 0:  # Only process if configuration exists\n",
    "            # Calculate proportions\n",
    "            total = len(config_df)\n",
    "            good_clients = (config_df['Type de client'] == 'bon client').sum() / total * 100\n",
    "            bad_clients = (config_df['Type de client'] == 'mauvais client').sum() / total * 100\n",
    "            \n",
    "            config_stats.append({\n",
    "                'Configuration': f\"{decouvert} + {chequier}\",\n",
    "                'Total Clients': total,\n",
    "                'Good Clients %': good_clients,\n",
    "                'Bad Clients %': bad_clients\n",
    "            })\n",
    "\n",
    "# Convert to DataFrame and sort by percentage of good clients\n",
    "result_df = pd.DataFrame(config_stats)\n",
    "print(\"\\nConfigurations sorted by percentage of good clients:\")\n",
    "print(result_df.sort_values('Good Clients %', ascending=False))"
   ]
  },
  {
   "cell_type": "code",
   "execution_count": 33,
   "metadata": {},
   "outputs": [
    {
     "name": "stdout",
     "output_type": "stream",
     "text": [
      "\n",
      "Configurations sorted by average score:\n",
      "                                       Configuration  Total Clients  \\\n",
      "4  Autorisation de decouvert + Interdiction de ch...              1   \n",
      "0             decouvert interdit + chequier autorise            244   \n",
      "2             decouvert autorise + chequier autorise            168   \n",
      "3             decouvert autorise + chequier interdit             37   \n",
      "1             decouvert interdit + chequier interdit             18   \n",
      "\n",
      "   Mean Score  \n",
      "4  690.000000  \n",
      "0  566.004098  \n",
      "2  557.559524  \n",
      "3  506.351351  \n",
      "1  453.055556  \n"
     ]
    }
   ],
   "source": [
    "# Calculate mean scores for each configuration\n",
    "config_scores = []\n",
    "\n",
    "for decouvert in df_pandas['Autorisation de decouvert'].unique():\n",
    "    for chequier in df_pandas['Interdiction de chequier'].unique():\n",
    "        # Filter for this configuration\n",
    "        mask = (df['Autorisation de decouvert'] == decouvert) & \\\n",
    "               (df['Interdiction de chequier'] == chequier)\n",
    "        config_df = df.filter(mask)\n",
    "        \n",
    "        if config_df.shape[0] > 0:  # Only process if configuration exists\n",
    "            mean_score = config_df['note attribuee'].mean()\n",
    "            total_clients = config_df.shape[0]\n",
    "            \n",
    "            config_scores.append({\n",
    "                'Configuration': f\"{decouvert} + {chequier}\",\n",
    "                'Total Clients': total_clients,\n",
    "                'Mean Score': mean_score\n",
    "            })\n",
    "\n",
    "# Convert to DataFrame and sort by mean score\n",
    "score_results = pd.DataFrame(config_scores)\n",
    "print(\"\\nConfigurations sorted by average score:\")\n",
    "print(score_results.sort_values('Mean Score', ascending=False))"
   ]
  },
  {
   "cell_type": "markdown",
   "metadata": {},
   "source": [
    "### **2.2.2 Association Rules**"
   ]
  },
  {
   "cell_type": "code",
   "execution_count": null,
   "metadata": {},
   "outputs": [],
   "source": []
  }
 ],
 "metadata": {
  "kernelspec": {
   "display_name": "envM2SISE",
   "language": "python",
   "name": "python3"
  },
  "language_info": {
   "codemirror_mode": {
    "name": "ipython",
    "version": 3
   },
   "file_extension": ".py",
   "mimetype": "text/x-python",
   "name": "python",
   "nbconvert_exporter": "python",
   "pygments_lexer": "ipython3",
   "version": "3.10.11"
  }
 },
 "nbformat": 4,
 "nbformat_minor": 2
}
