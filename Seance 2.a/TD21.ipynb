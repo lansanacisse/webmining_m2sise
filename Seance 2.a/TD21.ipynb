{
 "cells": [
  {
   "cell_type": "code",
   "execution_count": 1,
   "metadata": {},
   "outputs": [],
   "source": [
    "# import library\n",
    "import os\n",
    "import sys\n",
    "import polars as pl\n",
    "import numpy as np\n",
    "import pandas as pd"
   ]
  },
  {
   "cell_type": "code",
   "execution_count": 2,
   "metadata": {},
   "outputs": [],
   "source": [
    "# import data with pl\n",
    "df = pl.read_excel(\"bank-grille-score.xlsx\")"
   ]
  },
  {
   "cell_type": "code",
   "execution_count": 3,
   "metadata": {},
   "outputs": [
    {
     "name": "stdout",
     "output_type": "stream",
     "text": [
      "shape: (5, 7)\n",
      "┌────────┬─────────┬─────┬──────────┬─────────────┬──────────┬─────┐\n",
      "│ sex    ┆ married ┆ car ┆ save_act ┆ current_act ┆ mortgage ┆ pep │\n",
      "│ ---    ┆ ---     ┆ --- ┆ ---      ┆ ---         ┆ ---      ┆ --- │\n",
      "│ str    ┆ str     ┆ str ┆ str      ┆ str         ┆ str      ┆ str │\n",
      "╞════════╪═════════╪═════╪══════════╪═════════════╪══════════╪═════╡\n",
      "│ FEMALE ┆ NO      ┆ NO  ┆ NO       ┆ NO          ┆ NO       ┆ YES │\n",
      "│ MALE   ┆ YES     ┆ YES ┆ NO       ┆ YES         ┆ YES      ┆ NO  │\n",
      "│ FEMALE ┆ YES     ┆ YES ┆ YES      ┆ YES         ┆ NO       ┆ NO  │\n",
      "│ FEMALE ┆ YES     ┆ NO  ┆ NO       ┆ YES         ┆ NO       ┆ NO  │\n",
      "│ FEMALE ┆ YES     ┆ NO  ┆ YES      ┆ NO          ┆ NO       ┆ NO  │\n",
      "└────────┴─────────┴─────┴──────────┴─────────────┴──────────┴─────┘\n"
     ]
    }
   ],
   "source": [
    "# head of data\n",
    "print(df.head())"
   ]
  },
  {
   "cell_type": "code",
   "execution_count": 4,
   "metadata": {},
   "outputs": [
    {
     "data": {
      "text/plain": [
       "(600, 7)"
      ]
     },
     "execution_count": 4,
     "metadata": {},
     "output_type": "execute_result"
    }
   ],
   "source": [
    "# nombre d'observations\n",
    "df.shape"
   ]
  },
  {
   "cell_type": "code",
   "execution_count": 5,
   "metadata": {},
   "outputs": [
    {
     "data": {
      "text/plain": [
       "['sex', 'married', 'car', 'save_act', 'current_act', 'mortgage', 'pep']"
      ]
     },
     "execution_count": 5,
     "metadata": {},
     "output_type": "execute_result"
    }
   ],
   "source": [
    "# liste of columns and types\n",
    "df.columns"
   ]
  },
  {
   "cell_type": "code",
   "execution_count": 6,
   "metadata": {},
   "outputs": [
    {
     "data": {
      "text/html": [
       "<div><style>\n",
       ".dataframe > thead > tr,\n",
       ".dataframe > tbody > tr {\n",
       "  text-align: right;\n",
       "  white-space: pre-wrap;\n",
       "}\n",
       "</style>\n",
       "<small>shape: (2, 2)</small><table border=\"1\" class=\"dataframe\"><thead><tr><th>pep</th><th>count</th></tr><tr><td>str</td><td>u32</td></tr></thead><tbody><tr><td>&quot;YES&quot;</td><td>274</td></tr><tr><td>&quot;NO&quot;</td><td>326</td></tr></tbody></table></div>"
      ],
      "text/plain": [
       "shape: (2, 2)\n",
       "┌─────┬───────┐\n",
       "│ pep ┆ count │\n",
       "│ --- ┆ ---   │\n",
       "│ str ┆ u32   │\n",
       "╞═════╪═══════╡\n",
       "│ YES ┆ 274   │\n",
       "│ NO  ┆ 326   │\n",
       "└─────┴───────┘"
      ]
     },
     "execution_count": 6,
     "metadata": {},
     "output_type": "execute_result"
    }
   ],
   "source": [
    "y = df[\"pep\"]\n",
    "\n",
    "X = df.drop(\"pep\")\n",
    "\n",
    "# occurance of each value\n",
    "y.value_counts()"
   ]
  },
  {
   "cell_type": "code",
   "execution_count": 7,
   "metadata": {},
   "outputs": [],
   "source": [
    "# encode each variable to numerical 0 or 1\n",
    "X = X.to_dummies(drop_first=True)"
   ]
  },
  {
   "cell_type": "code",
   "execution_count": 8,
   "metadata": {},
   "outputs": [
    {
     "data": {
      "text/html": [
       "<div><style>\n",
       ".dataframe > thead > tr,\n",
       ".dataframe > tbody > tr {\n",
       "  text-align: right;\n",
       "  white-space: pre-wrap;\n",
       "}\n",
       "</style>\n",
       "<small>shape: (600, 6)</small><table border=\"1\" class=\"dataframe\"><thead><tr><th>sex_MALE</th><th>married_YES</th><th>car_YES</th><th>save_act_YES</th><th>current_act_YES</th><th>mortgage_YES</th></tr><tr><td>u8</td><td>u8</td><td>u8</td><td>u8</td><td>u8</td><td>u8</td></tr></thead><tbody><tr><td>0</td><td>0</td><td>0</td><td>0</td><td>0</td><td>0</td></tr><tr><td>1</td><td>1</td><td>1</td><td>0</td><td>1</td><td>1</td></tr><tr><td>0</td><td>1</td><td>1</td><td>1</td><td>1</td><td>0</td></tr><tr><td>0</td><td>1</td><td>0</td><td>0</td><td>1</td><td>0</td></tr><tr><td>0</td><td>1</td><td>0</td><td>1</td><td>0</td><td>0</td></tr><tr><td>&hellip;</td><td>&hellip;</td><td>&hellip;</td><td>&hellip;</td><td>&hellip;</td><td>&hellip;</td></tr><tr><td>0</td><td>0</td><td>1</td><td>1</td><td>1</td><td>1</td></tr><tr><td>0</td><td>1</td><td>1</td><td>1</td><td>1</td><td>0</td></tr><tr><td>0</td><td>1</td><td>1</td><td>1</td><td>0</td><td>0</td></tr><tr><td>1</td><td>1</td><td>0</td><td>1</td><td>0</td><td>1</td></tr><tr><td>1</td><td>0</td><td>1</td><td>0</td><td>1</td><td>1</td></tr></tbody></table></div>"
      ],
      "text/plain": [
       "shape: (600, 6)\n",
       "┌──────────┬─────────────┬─────────┬──────────────┬─────────────────┬──────────────┐\n",
       "│ sex_MALE ┆ married_YES ┆ car_YES ┆ save_act_YES ┆ current_act_YES ┆ mortgage_YES │\n",
       "│ ---      ┆ ---         ┆ ---     ┆ ---          ┆ ---             ┆ ---          │\n",
       "│ u8       ┆ u8          ┆ u8      ┆ u8           ┆ u8              ┆ u8           │\n",
       "╞══════════╪═════════════╪═════════╪══════════════╪═════════════════╪══════════════╡\n",
       "│ 0        ┆ 0           ┆ 0       ┆ 0            ┆ 0               ┆ 0            │\n",
       "│ 1        ┆ 1           ┆ 1       ┆ 0            ┆ 1               ┆ 1            │\n",
       "│ 0        ┆ 1           ┆ 1       ┆ 1            ┆ 1               ┆ 0            │\n",
       "│ 0        ┆ 1           ┆ 0       ┆ 0            ┆ 1               ┆ 0            │\n",
       "│ 0        ┆ 1           ┆ 0       ┆ 1            ┆ 0               ┆ 0            │\n",
       "│ …        ┆ …           ┆ …       ┆ …            ┆ …               ┆ …            │\n",
       "│ 0        ┆ 0           ┆ 1       ┆ 1            ┆ 1               ┆ 1            │\n",
       "│ 0        ┆ 1           ┆ 1       ┆ 1            ┆ 1               ┆ 0            │\n",
       "│ 0        ┆ 1           ┆ 1       ┆ 1            ┆ 0               ┆ 0            │\n",
       "│ 1        ┆ 1           ┆ 0       ┆ 1            ┆ 0               ┆ 1            │\n",
       "│ 1        ┆ 0           ┆ 1       ┆ 0            ┆ 1               ┆ 1            │\n",
       "└──────────┴─────────────┴─────────┴──────────────┴─────────────────┴──────────────┘"
      ]
     },
     "execution_count": 8,
     "metadata": {},
     "output_type": "execute_result"
    }
   ],
   "source": [
    "X"
   ]
  },
  {
   "cell_type": "code",
   "execution_count": 9,
   "metadata": {},
   "outputs": [
    {
     "data": {
      "text/plain": [
       "(600, 6)"
      ]
     },
     "execution_count": 9,
     "metadata": {},
     "output_type": "execute_result"
    }
   ],
   "source": [
    "# nNumber of columns\n",
    "X.shape"
   ]
  },
  {
   "cell_type": "code",
   "execution_count": 10,
   "metadata": {},
   "outputs": [
    {
     "name": "stdout",
     "output_type": "stream",
     "text": [
      "1.5.2\n"
     ]
    }
   ],
   "source": [
    "# version of scikit-learn\n",
    "import sklearn\n",
    "print(sklearn.__version__)"
   ]
  },
  {
   "cell_type": "code",
   "execution_count": 11,
   "metadata": {},
   "outputs": [
    {
     "name": "stdout",
     "output_type": "stream",
     "text": [
      "Accuracy: 0.55\n",
      "\n",
      "Classification Report:\n",
      "              precision    recall  f1-score   support\n",
      "\n",
      "           0       0.55      0.66      0.60        61\n",
      "           1       0.55      0.44      0.49        59\n",
      "\n",
      "    accuracy                           0.55       120\n",
      "   macro avg       0.55      0.55      0.54       120\n",
      "weighted avg       0.55      0.55      0.54       120\n",
      "\n"
     ]
    }
   ],
   "source": [
    "from sklearn.model_selection import train_test_split\n",
    "from sklearn.linear_model import LogisticRegression\n",
    "from sklearn.metrics import accuracy_score, classification_report\n",
    "\n",
    "# Convert y to numeric (0, 1)\n",
    "y_numeric = (y == \"YES\").cast(pl.Int8)\n",
    "\n",
    "# Convert X to numpy array for sklearn\n",
    "X_numpy = X.to_numpy()\n",
    "y_numpy = y_numeric.to_numpy()\n",
    "\n",
    "# Split the data\n",
    "X_train, X_test, y_train, y_test = train_test_split(X_numpy, y_numpy, test_size=0.2, random_state=0)\n",
    "\n",
    "# Create and train the model\n",
    "model = LogisticRegression(random_state=0)\n",
    "model.fit(X_train, y_train)\n",
    "\n",
    "# Make predictions\n",
    "y_pred = model.predict(X_test)\n",
    "\n",
    "# Print results\n",
    "print(\"Accuracy:\", accuracy_score(y_test, y_pred))\n",
    "print(\"\\nClassification Report:\")\n",
    "print(classification_report(y_test, y_pred))"
   ]
  },
  {
   "cell_type": "code",
   "execution_count": 12,
   "metadata": {},
   "outputs": [
    {
     "data": {
      "text/plain": [
       "array([[ 0.21891215, -0.89578646, -0.01467361, -0.23206962,  0.11343007,\n",
       "        -0.05089988]])"
      ]
     },
     "execution_count": 12,
     "metadata": {},
     "output_type": "execute_result"
    }
   ],
   "source": [
    "# coefficients of the model\n",
    "model.coef_"
   ]
  },
  {
   "cell_type": "markdown",
   "metadata": {},
   "source": [
    "## **Sélection de variables**"
   ]
  },
  {
   "cell_type": "code",
   "execution_count": 13,
   "metadata": {},
   "outputs": [],
   "source": [
    "# instancier le modele stratifiedKFold\n",
    "from sklearn.model_selection import StratifiedKFold\n",
    "\n",
    "skf = StratifiedKFold(n_splits=10, shuffle=True, random_state=0)\n",
    "\n",
    "\n"
   ]
  },
  {
   "cell_type": "code",
   "execution_count": 14,
   "metadata": {},
   "outputs": [],
   "source": [
    "# Instancier le modele de RFECV\n",
    "from sklearn.feature_selection import RFECV\n",
    "\n",
    "rfecv = RFECV(estimator=LogisticRegression(random_state=0), cv=skf, scoring=\"accuracy\")"
   ]
  },
  {
   "cell_type": "code",
   "execution_count": 19,
   "metadata": {},
   "outputs": [
    {
     "name": "stdout",
     "output_type": "stream",
     "text": [
      "\n",
      "Cross-validation scores for each number of features:\n",
      "Number of features:  1, CV Accuracy: 0.6033\n",
      "Number of features:  2, CV Accuracy: 0.6033\n",
      "Number of features:  3, CV Accuracy: 0.5850\n",
      "Number of features:  4, CV Accuracy: 0.5900\n",
      "Number of features:  5, CV Accuracy: 0.5833\n",
      "Number of features:  6, CV Accuracy: 0.5817\n",
      "\n",
      "Optimal number of features: 1\n"
     ]
    },
    {
     "data": {
      "image/png": "[encoded data removed]",
      "text/plain": [
       "<Figure size 1000x600 with 1 Axes>"
      ]
     },
     "metadata": {},
     "output_type": "display_data"
    }
   ],
   "source": [
    "# Fit RFECV\n",
    "rfecv.fit(X_numpy, y_numpy)\n",
    "\n",
    "# Get the CV results for each number of features\n",
    "n_features = [i for i in range(1, len(rfecv.cv_results_['mean_test_score']) + 1)]\n",
    "cv_scores = rfecv.cv_results_['mean_test_score']\n",
    "\n",
    "# Create a simple visualization\n",
    "import matplotlib.pyplot as plt\n",
    "\n",
    "plt.figure(figsize=(10, 6))\n",
    "plt.plot(n_features, cv_scores, marker='o')\n",
    "plt.xlabel('Number of features')\n",
    "plt.ylabel('Cross-validation accuracy')\n",
    "plt.title('Feature Selection - Cross-validation scores')\n",
    "plt.grid(True)\n",
    "\n",
    "# Print the scores\n",
    "print(\"\\nCross-validation scores for each number of features:\")\n",
    "for n, score in zip(n_features, cv_scores):\n",
    "    print(f\"Number of features: {n:2d}, CV Accuracy: {score:.4f}\")\n",
    "\n",
    "print(f\"\\nOptimal number of features: {rfecv.n_features_}\")"
   ]
  },
  {
   "cell_type": "code",
   "execution_count": 20,
   "metadata": {},
   "outputs": [
    {
     "data": {
      "text/plain": [
       "array([3, 1, 6, 2, 5, 4])"
      ]
     },
     "execution_count": 20,
     "metadata": {},
     "output_type": "execute_result"
    }
   ],
   "source": [
    "# Coefficients of the model\n",
    "rfecv.ranking_"
   ]
  },
  {
   "cell_type": "code",
   "execution_count": 21,
   "metadata": {},
   "outputs": [
    {
     "name": "stdout",
     "output_type": "stream",
     "text": [
      "Selected features (Ranking = 1):\n",
      "       Feature  Ranking\n",
      "1  married_YES        1\n",
      "\n",
      "Eliminated features (Ranking > 1):\n",
      "           Feature  Ranking\n",
      "3     save_act_YES        2\n",
      "0         sex_MALE        3\n",
      "5     mortgage_YES        4\n",
      "4  current_act_YES        5\n",
      "2          car_YES        6\n"
     ]
    }
   ],
   "source": [
    "# Get feature names from X\n",
    "feature_names = X.columns\n",
    "\n",
    "# Create a dataframe with features and their rankings\n",
    "feature_importance = pd.DataFrame({\n",
    "    'Feature': feature_names,\n",
    "    'Ranking': rfecv.ranking_\n",
    "})\n",
    "\n",
    "# Sort by ranking (1 means selected, higher numbers mean order of elimination)\n",
    "feature_importance = feature_importance.sort_values('Ranking')\n",
    "\n",
    "print(\"Selected features (Ranking = 1):\")\n",
    "print(feature_importance[feature_importance['Ranking'] == 1])\n",
    "print(\"\\nEliminated features (Ranking > 1):\")\n",
    "print(feature_importance[feature_importance['Ranking'] > 1])"
   ]
  },
  {
   "cell_type": "code",
   "execution_count": 22,
   "metadata": {},
   "outputs": [
    {
     "name": "stdout",
     "output_type": "stream",
     "text": [
      "Coefficients:\n",
      "married_YES: -0.7804\n",
      "save_act_YES: -0.2931\n",
      "\n",
      "Intercept: 0.5398\n",
      "\n",
      "Confusion Matrix:\n",
      "[[242  84]\n",
      " [154 120]]\n"
     ]
    }
   ],
   "source": [
    "from sklearn.metrics import confusion_matrix\n",
    "\n",
    "# Select only the two most important features\n",
    "selected_features = ['married_YES', 'save_act_YES']\n",
    "X_selected = X[selected_features]\n",
    "X_selected_numpy = X_selected.to_numpy()\n",
    "\n",
    "# Create and train the logistic regression model\n",
    "new_model = LogisticRegression(random_state=0)\n",
    "new_model.fit(X_selected_numpy, y_numpy)\n",
    "\n",
    "# Print coefficients and intercept\n",
    "print(\"Coefficients:\")\n",
    "for feature, coef in zip(selected_features, new_model.coef_[0]):\n",
    "    print(f\"{feature}: {coef:.4f}\")\n",
    "print(f\"\\nIntercept: {new_model.intercept_[0]:.4f}\")\n",
    "\n",
    "# Make predictions\n",
    "y_pred_new = new_model.predict(X_selected_numpy)\n",
    "\n",
    "# Create confusion matrix\n",
    "\n",
    "conf_matrix = confusion_matrix(y_numpy, y_pred_new)\n",
    "print(\"\\nConfusion Matrix:\")\n",
    "print(conf_matrix)"
   ]
  },
  {
   "cell_type": "code",
   "execution_count": null,
   "metadata": {},
   "outputs": [],
   "source": []
  }
 ],
 "metadata": {
  "kernelspec": {
   "display_name": "envM2SISE",
   "language": "python",
   "name": "python3"
  },
  "language_info": {
   "codemirror_mode": {
    "name": "ipython",
    "version": 3
   },
   "file_extension": ".py",
   "mimetype": "text/x-python",
   "name": "python",
   "nbconvert_exporter": "python",
   "pygments_lexer": "ipython3",
   "version": "3.10.11"
  }
 },
 "nbformat": 4,
 "nbformat_minor": 2
}
