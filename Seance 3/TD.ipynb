{
 "cells": [
  {
   "cell_type": "markdown",
   "metadata": {},
   "source": [
    "## **Data Exploration**"
   ]
  },
  {
   "cell_type": "code",
   "execution_count": 1,
   "metadata": {},
   "outputs": [],
   "source": [
    "# import libraries\n",
    "import numpy as np\n",
    "import pandas as pd\n",
    "import matplotlib.pyplot as plt\n",
    "import polars as pl\n",
    "import seaborn as sns\n"
   ]
  },
  {
   "cell_type": "code",
   "execution_count": 2,
   "metadata": {},
   "outputs": [],
   "source": [
    "# Laod the data \n",
    "df = pl.read_excel(\"movies_ratings.xlsx\")"
   ]
  },
  {
   "cell_type": "code",
   "execution_count": 3,
   "metadata": {},
   "outputs": [
    {
     "data": {
      "text/html": [
       "<div><style>\n",
       ".dataframe > thead > tr,\n",
       ".dataframe > tbody > tr {\n",
       "  text-align: right;\n",
       "  white-space: pre-wrap;\n",
       "}\n",
       "</style>\n",
       "<small>shape: (5, 3)</small><table border=\"1\" class=\"dataframe\"><thead><tr><th>user</th><th>item</th><th>rating</th></tr><tr><td>i64</td><td>str</td><td>i64</td></tr></thead><tbody><tr><td>1</td><td>&quot;Toy Story (1995)&quot;</td><td>5</td></tr><tr><td>1</td><td>&quot;GoldenEye (1995)&quot;</td><td>3</td></tr><tr><td>1</td><td>&quot;Four Rooms (1995)&quot;</td><td>4</td></tr><tr><td>1</td><td>&quot;Get Shorty (1995)&quot;</td><td>3</td></tr><tr><td>1</td><td>&quot;Copycat (1995)&quot;</td><td>3</td></tr></tbody></table></div>"
      ],
      "text/plain": [
       "shape: (5, 3)\n",
       "┌──────┬───────────────────┬────────┐\n",
       "│ user ┆ item              ┆ rating │\n",
       "│ ---  ┆ ---               ┆ ---    │\n",
       "│ i64  ┆ str               ┆ i64    │\n",
       "╞══════╪═══════════════════╪════════╡\n",
       "│ 1    ┆ Toy Story (1995)  ┆ 5      │\n",
       "│ 1    ┆ GoldenEye (1995)  ┆ 3      │\n",
       "│ 1    ┆ Four Rooms (1995) ┆ 4      │\n",
       "│ 1    ┆ Get Shorty (1995) ┆ 3      │\n",
       "│ 1    ┆ Copycat (1995)    ┆ 3      │\n",
       "└──────┴───────────────────┴────────┘"
      ]
     },
     "execution_count": 3,
     "metadata": {},
     "output_type": "execute_result"
    }
   ],
   "source": [
    "# head of the data\n",
    "df.head()"
   ]
  },
  {
   "cell_type": "code",
   "execution_count": 17,
   "metadata": {},
   "outputs": [
    {
     "data": {
      "text/plain": [
       "(99392, 3)"
      ]
     },
     "execution_count": 17,
     "metadata": {},
     "output_type": "execute_result"
    }
   ],
   "source": [
    "# shape of the data\n",
    "df.shape"
   ]
  },
  {
   "cell_type": "code",
   "execution_count": 18,
   "metadata": {},
   "outputs": [
    {
     "data": {
      "text/plain": [
       "943"
      ]
     },
     "execution_count": 18,
     "metadata": {},
     "output_type": "execute_result"
    }
   ],
   "source": [
    "# number of distinct user\n",
    "df['user'].n_unique()"
   ]
  },
  {
   "cell_type": "code",
   "execution_count": 22,
   "metadata": {},
   "outputs": [
    {
     "data": {
      "text/plain": [
       "1664"
      ]
     },
     "execution_count": 22,
     "metadata": {},
     "output_type": "execute_result"
    }
   ],
   "source": [
    "# number of distinct movie  (string)\n",
    "df['item'].n_unique()"
   ]
  },
  {
   "cell_type": "code",
   "execution_count": 23,
   "metadata": {},
   "outputs": [
    {
     "name": "stdout",
     "output_type": "stream",
     "text": [
      "the minimum rating is 1 and the maximum rating is 5\n"
     ]
    }
   ],
   "source": [
    "# min and max rating\n",
    "df['rating'].min(), df['rating'].max()\n",
    "print(f\"the minimum rating is {df['rating'].min()} and the maximum rating is {df['rating'].max()}\")"
   ]
  },
  {
   "cell_type": "code",
   "execution_count": 33,
   "metadata": {},
   "outputs": [
    {
     "data": {
      "text/html": [
       "<div><style>\n",
       ".dataframe > thead > tr,\n",
       ".dataframe > tbody > tr {\n",
       "  text-align: right;\n",
       "  white-space: pre-wrap;\n",
       "}\n",
       "</style>\n",
       "<small>shape: (5, 2)</small><table border=\"1\" class=\"dataframe\"><thead><tr><th>user</th><th>number of rating</th></tr><tr><td>i64</td><td>u32</td></tr></thead><tbody><tr><td>405</td><td>735</td></tr><tr><td>655</td><td>677</td></tr><tr><td>13</td><td>630</td></tr><tr><td>450</td><td>538</td></tr><tr><td>276</td><td>515</td></tr></tbody></table></div>"
      ],
      "text/plain": [
       "shape: (5, 2)\n",
       "┌──────┬──────────────────┐\n",
       "│ user ┆ number of rating │\n",
       "│ ---  ┆ ---              │\n",
       "│ i64  ┆ u32              │\n",
       "╞══════╪══════════════════╡\n",
       "│ 405  ┆ 735              │\n",
       "│ 655  ┆ 677              │\n",
       "│ 13   ┆ 630              │\n",
       "│ 450  ┆ 538              │\n",
       "│ 276  ┆ 515              │\n",
       "└──────┴──────────────────┘"
      ]
     },
     "execution_count": 33,
     "metadata": {},
     "output_type": "execute_result"
    }
   ],
   "source": [
    "# number of rating per user\n",
    "df.group_by('user', maintain_order=True).agg(pl.count('rating').alias('number of rating')).sort('number of rating', descending=True).head(5)"
   ]
  },
  {
   "cell_type": "code",
   "execution_count": 34,
   "metadata": {},
   "outputs": [
    {
     "data": {
      "text/html": [
       "<div><style>\n",
       ".dataframe > thead > tr,\n",
       ".dataframe > tbody > tr {\n",
       "  text-align: right;\n",
       "  white-space: pre-wrap;\n",
       "}\n",
       "</style>\n",
       "<small>shape: (5, 2)</small><table border=\"1\" class=\"dataframe\"><thead><tr><th>item</th><th>average rating</th></tr><tr><td>str</td><td>u32</td></tr></thead><tbody><tr><td>&quot;Star Wars (1977)&quot;</td><td>583</td></tr><tr><td>&quot;Contact (1997)&quot;</td><td>509</td></tr><tr><td>&quot;Fargo (1996)&quot;</td><td>508</td></tr><tr><td>&quot;Return of the Jedi (1983)&quot;</td><td>507</td></tr><tr><td>&quot;Liar Liar (1997)&quot;</td><td>485</td></tr></tbody></table></div>"
      ],
      "text/plain": [
       "shape: (5, 2)\n",
       "┌───────────────────────────┬────────────────┐\n",
       "│ item                      ┆ average rating │\n",
       "│ ---                       ┆ ---            │\n",
       "│ str                       ┆ u32            │\n",
       "╞═══════════════════════════╪════════════════╡\n",
       "│ Star Wars (1977)          ┆ 583            │\n",
       "│ Contact (1997)            ┆ 509            │\n",
       "│ Fargo (1996)              ┆ 508            │\n",
       "│ Return of the Jedi (1983) ┆ 507            │\n",
       "│ Liar Liar (1997)          ┆ 485            │\n",
       "└───────────────────────────┴────────────────┘"
      ]
     },
     "execution_count": 34,
     "metadata": {},
     "output_type": "execute_result"
    }
   ],
   "source": [
    "# top 5 movies with the highest rating\n",
    "df.group_by('item', maintain_order=True).agg(pl.count('rating').alias('average rating')).sort('average rating', descending=True).head(5)"
   ]
  },
  {
   "cell_type": "code",
   "execution_count": 35,
   "metadata": {},
   "outputs": [
    {
     "data": {
      "text/html": [
       "<div><style>\n",
       ".dataframe > thead > tr,\n",
       ".dataframe > tbody > tr {\n",
       "  text-align: right;\n",
       "  white-space: pre-wrap;\n",
       "}\n",
       "</style>\n",
       "<small>shape: (5, 2)</small><table border=\"1\" class=\"dataframe\"><thead><tr><th>user</th><th>mean rating</th></tr><tr><td>i64</td><td>f64</td></tr></thead><tbody><tr><td>849</td><td>4.869565</td></tr><tr><td>688</td><td>4.833333</td></tr><tr><td>507</td><td>4.724138</td></tr><tr><td>628</td><td>4.703704</td></tr><tr><td>928</td><td>4.677419</td></tr></tbody></table></div>"
      ],
      "text/plain": [
       "shape: (5, 2)\n",
       "┌──────┬─────────────┐\n",
       "│ user ┆ mean rating │\n",
       "│ ---  ┆ ---         │\n",
       "│ i64  ┆ f64         │\n",
       "╞══════╪═════════════╡\n",
       "│ 849  ┆ 4.869565    │\n",
       "│ 688  ┆ 4.833333    │\n",
       "│ 507  ┆ 4.724138    │\n",
       "│ 628  ┆ 4.703704    │\n",
       "│ 928  ┆ 4.677419    │\n",
       "└──────┴─────────────┘"
      ]
     },
     "execution_count": 35,
     "metadata": {},
     "output_type": "execute_result"
    }
   ],
   "source": [
    "# mean of rating per user \n",
    "df.group_by('user', maintain_order=True).agg(pl.mean('rating').alias('mean rating')).sort('mean rating', descending=True).head(5)"
   ]
  },
  {
   "cell_type": "code",
   "execution_count": 36,
   "metadata": {},
   "outputs": [
    {
     "data": {
      "text/html": [
       "<div><style>\n",
       ".dataframe > thead > tr,\n",
       ".dataframe > tbody > tr {\n",
       "  text-align: right;\n",
       "  white-space: pre-wrap;\n",
       "}\n",
       "</style>\n",
       "<small>shape: (20, 2)</small><table border=\"1\" class=\"dataframe\"><thead><tr><th>item</th><th>average rating</th></tr><tr><td>str</td><td>f64</td></tr></thead><tbody><tr><td>&quot;Great Day in Harlem, A (1994)&quot;</td><td>5.0</td></tr><tr><td>&quot;They Made Me a Criminal (1939)&quot;</td><td>5.0</td></tr><tr><td>&quot;Prefontaine (1997)&quot;</td><td>5.0</td></tr><tr><td>&quot;Marlene Dietrich: Shadow and L…</td><td>5.0</td></tr><tr><td>&quot;Star Kid (1997)&quot;</td><td>5.0</td></tr><tr><td>&hellip;</td><td>&hellip;</td></tr><tr><td>&quot;Close Shave, A (1995)&quot;</td><td>4.491071</td></tr><tr><td>&quot;Schindler&#x27;s List (1993)&quot;</td><td>4.466443</td></tr><tr><td>&quot;Wrong Trousers, The (1993)&quot;</td><td>4.466102</td></tr><tr><td>&quot;Casablanca (1942)&quot;</td><td>4.45679</td></tr><tr><td>&quot;Wallace &amp; Gromit: The Best of …</td><td>4.447761</td></tr></tbody></table></div>"
      ],
      "text/plain": [
       "shape: (20, 2)\n",
       "┌─────────────────────────────────┬────────────────┐\n",
       "│ item                            ┆ average rating │\n",
       "│ ---                             ┆ ---            │\n",
       "│ str                             ┆ f64            │\n",
       "╞═════════════════════════════════╪════════════════╡\n",
       "│ Great Day in Harlem, A (1994)   ┆ 5.0            │\n",
       "│ They Made Me a Criminal (1939)  ┆ 5.0            │\n",
       "│ Prefontaine (1997)              ┆ 5.0            │\n",
       "│ Marlene Dietrich: Shadow and L… ┆ 5.0            │\n",
       "│ Star Kid (1997)                 ┆ 5.0            │\n",
       "│ …                               ┆ …              │\n",
       "│ Close Shave, A (1995)           ┆ 4.491071       │\n",
       "│ Schindler's List (1993)         ┆ 4.466443       │\n",
       "│ Wrong Trousers, The (1993)      ┆ 4.466102       │\n",
       "│ Casablanca (1942)               ┆ 4.45679        │\n",
       "│ Wallace & Gromit: The Best of … ┆ 4.447761       │\n",
       "└─────────────────────────────────┴────────────────┘"
      ]
     },
     "execution_count": 36,
     "metadata": {},
     "output_type": "execute_result"
    }
   ],
   "source": [
    "# top 20 movies with the highest rating\n",
    "df.group_by('item', maintain_order=True).agg(pl.mean('rating').alias('average rating')).sort('average rating', descending=True).head(20)"
   ]
  },
  {
   "cell_type": "code",
   "execution_count": 37,
   "metadata": {
    "vscode": {
     "languageId": "javascript"
    }
   },
   "outputs": [
    {
     "data": {
      "text/html": [
       "<div><style>\n",
       ".dataframe > thead > tr,\n",
       ".dataframe > tbody > tr {\n",
       "  text-align: right;\n",
       "  white-space: pre-wrap;\n",
       "}\n",
       "</style>\n",
       "<small>shape: (20, 3)</small><table border=\"1\" class=\"dataframe\"><thead><tr><th>item</th><th>rating_count</th><th>average_rating</th></tr><tr><td>str</td><td>u32</td><td>f64</td></tr></thead><tbody><tr><td>&quot;Close Shave, A (1995)&quot;</td><td>112</td><td>4.491071</td></tr><tr><td>&quot;Schindler&#x27;s List (1993)&quot;</td><td>298</td><td>4.466443</td></tr><tr><td>&quot;Wrong Trousers, The (1993)&quot;</td><td>118</td><td>4.466102</td></tr><tr><td>&quot;Casablanca (1942)&quot;</td><td>243</td><td>4.45679</td></tr><tr><td>&quot;Wallace &amp; Gromit: The Best of …</td><td>67</td><td>4.447761</td></tr><tr><td>&hellip;</td><td>&hellip;</td><td>&hellip;</td></tr><tr><td>&quot;North by Northwest (1959)&quot;</td><td>179</td><td>4.284916</td></tr><tr><td>&quot;Godfather, The (1972)&quot;</td><td>413</td><td>4.283293</td></tr><tr><td>&quot;Secrets &amp; Lies (1996)&quot;</td><td>162</td><td>4.265432</td></tr><tr><td>&quot;Good Will Hunting (1997)&quot;</td><td>198</td><td>4.262626</td></tr><tr><td>&quot;Manchurian Candidate, The (196…</td><td>131</td><td>4.259542</td></tr></tbody></table></div>"
      ],
      "text/plain": [
       "shape: (20, 3)\n",
       "┌─────────────────────────────────┬──────────────┬────────────────┐\n",
       "│ item                            ┆ rating_count ┆ average_rating │\n",
       "│ ---                             ┆ ---          ┆ ---            │\n",
       "│ str                             ┆ u32          ┆ f64            │\n",
       "╞═════════════════════════════════╪══════════════╪════════════════╡\n",
       "│ Close Shave, A (1995)           ┆ 112          ┆ 4.491071       │\n",
       "│ Schindler's List (1993)         ┆ 298          ┆ 4.466443       │\n",
       "│ Wrong Trousers, The (1993)      ┆ 118          ┆ 4.466102       │\n",
       "│ Casablanca (1942)               ┆ 243          ┆ 4.45679        │\n",
       "│ Wallace & Gromit: The Best of … ┆ 67           ┆ 4.447761       │\n",
       "│ …                               ┆ …            ┆ …              │\n",
       "│ North by Northwest (1959)       ┆ 179          ┆ 4.284916       │\n",
       "│ Godfather, The (1972)           ┆ 413          ┆ 4.283293       │\n",
       "│ Secrets & Lies (1996)           ┆ 162          ┆ 4.265432       │\n",
       "│ Good Will Hunting (1997)        ┆ 198          ┆ 4.262626       │\n",
       "│ Manchurian Candidate, The (196… ┆ 131          ┆ 4.259542       │\n",
       "└─────────────────────────────────┴──────────────┴────────────────┘"
      ]
     },
     "execution_count": 37,
     "metadata": {},
     "output_type": "execute_result"
    }
   ],
   "source": [
    "(df.group_by('item', maintain_order=True)\n",
    "    .agg([\n",
    "         pl.count('rating').alias('rating_count'),\n",
    "         pl.mean('rating').alias('average_rating')\n",
    "    ])\n",
    "    .filter(pl.col('rating_count') >= 50)\n",
    "    .sort('average_rating', descending=True)\n",
    "    .head(20))"
   ]
  },
  {
   "cell_type": "code",
   "execution_count": 38,
   "metadata": {
    "vscode": {
     "languageId": "javascript"
    }
   },
   "outputs": [
    {
     "data": {
      "text/html": [
       "<div><style>\n",
       ".dataframe > thead > tr,\n",
       ".dataframe > tbody > tr {\n",
       "  text-align: right;\n",
       "  white-space: pre-wrap;\n",
       "}\n",
       "</style>\n",
       "<small>shape: (0, 3)</small><table border=\"1\" class=\"dataframe\"><thead><tr><th>user</th><th>item</th><th>rating_count</th></tr><tr><td>i64</td><td>str</td><td>u32</td></tr></thead><tbody></tbody></table></div>"
      ],
      "text/plain": [
       "shape: (0, 3)\n",
       "┌──────┬──────┬──────────────┐\n",
       "│ user ┆ item ┆ rating_count │\n",
       "│ ---  ┆ ---  ┆ ---          │\n",
       "│ i64  ┆ str  ┆ u32          │\n",
       "╞══════╪══════╪══════════════╡\n",
       "└──────┴──────┴──────────────┘"
      ]
     },
     "execution_count": 38,
     "metadata": {},
     "output_type": "execute_result"
    }
   ],
   "source": [
    "(df.group_by(['user', 'item'])\n",
    "    .agg(pl.count('rating').alias('rating_count'))\n",
    "    .filter(pl.col('rating_count') > 1)\n",
    "    .sort('rating_count', descending=True))"
   ]
  },
  {
   "cell_type": "markdown",
   "metadata": {},
   "source": [
    "## **Data preparation**"
   ]
  },
  {
   "cell_type": "code",
   "execution_count": 39,
   "metadata": {},
   "outputs": [
    {
     "data": {
      "text/plain": [
       "109"
      ]
     },
     "execution_count": 39,
     "metadata": {},
     "output_type": "execute_result"
    }
   ],
   "source": [
    "# number of evaluation for 101 Dalmatians (1996) movie\n",
    "df.filter(df['item'] == '101 Dalmatians (1996)').shape[0]"
   ]
  },
  {
   "cell_type": "code",
   "execution_count": 41,
   "metadata": {},
   "outputs": [
    {
     "data": {
      "text/html": [
       "<div><style>\n",
       ".dataframe > thead > tr,\n",
       ".dataframe > tbody > tr {\n",
       "  text-align: right;\n",
       "  white-space: pre-wrap;\n",
       "}\n",
       "</style>\n",
       "<small>shape: (1, 1)</small><table border=\"1\" class=\"dataframe\"><thead><tr><th>rating</th></tr><tr><td>f64</td></tr></thead><tbody><tr><td>2.908257</td></tr></tbody></table></div>"
      ],
      "text/plain": [
       "shape: (1, 1)\n",
       "┌──────────┐\n",
       "│ rating   │\n",
       "│ ---      │\n",
       "│ f64      │\n",
       "╞══════════╡\n",
       "│ 2.908257 │\n",
       "└──────────┘"
      ]
     },
     "execution_count": 41,
     "metadata": {},
     "output_type": "execute_result"
    }
   ],
   "source": [
    "# mean rating for 101 Dalmatians (1996) movie\n",
    "df.filter(df['item'] == '101 Dalmatians (1996)').select(pl.mean('rating'))"
   ]
  },
  {
   "cell_type": "code",
   "execution_count": 44,
   "metadata": {},
   "outputs": [
    {
     "data": {
      "text/html": [
       "<div><style>\n",
       ".dataframe > thead > tr,\n",
       ".dataframe > tbody > tr {\n",
       "  text-align: right;\n",
       "  white-space: pre-wrap;\n",
       "}\n",
       "</style>\n",
       "<small>shape: (5, 3)</small><table border=\"1\" class=\"dataframe\"><thead><tr><th>user</th><th>item</th><th>rating</th></tr><tr><td>i64</td><td>str</td><td>i64</td></tr></thead><tbody><tr><td>1</td><td>&quot;101 Dalmatians (1996)&quot;</td><td>2</td></tr><tr><td>5</td><td>&quot;101 Dalmatians (1996)&quot;</td><td>2</td></tr><tr><td>13</td><td>&quot;101 Dalmatians (1996)&quot;</td><td>2</td></tr><tr><td>15</td><td>&quot;101 Dalmatians (1996)&quot;</td><td>3</td></tr><tr><td>38</td><td>&quot;101 Dalmatians (1996)&quot;</td><td>5</td></tr></tbody></table></div>"
      ],
      "text/plain": [
       "shape: (5, 3)\n",
       "┌──────┬───────────────────────┬────────┐\n",
       "│ user ┆ item                  ┆ rating │\n",
       "│ ---  ┆ ---                   ┆ ---    │\n",
       "│ i64  ┆ str                   ┆ i64    │\n",
       "╞══════╪═══════════════════════╪════════╡\n",
       "│ 1    ┆ 101 Dalmatians (1996) ┆ 2      │\n",
       "│ 5    ┆ 101 Dalmatians (1996) ┆ 2      │\n",
       "│ 13   ┆ 101 Dalmatians (1996) ┆ 2      │\n",
       "│ 15   ┆ 101 Dalmatians (1996) ┆ 3      │\n",
       "│ 38   ┆ 101 Dalmatians (1996) ┆ 5      │\n",
       "└──────┴───────────────────────┴────────┘"
      ]
     },
     "execution_count": 44,
     "metadata": {},
     "output_type": "execute_result"
    }
   ],
   "source": [
    "# Set random seed for reproducibility\n",
    "np.random.seed(42)\n",
    "\n",
    "# Create test sample of 101 Dalmatians (1996) movie\n",
    "Dalmatians_sample = df.filter(df['item'] == '101 Dalmatians (1996)')\n",
    "\n",
    "# head of the test sample\n",
    "Dalmatians_sample.head()"
   ]
  },
  {
   "cell_type": "code",
   "execution_count": 45,
   "metadata": {},
   "outputs": [
    {
     "data": {
      "text/html": [
       "<div><style>\n",
       ".dataframe > thead > tr,\n",
       ".dataframe > tbody > tr {\n",
       "  text-align: right;\n",
       "  white-space: pre-wrap;\n",
       "}\n",
       "</style>\n",
       "<small>shape: (5, 3)</small><table border=\"1\" class=\"dataframe\"><thead><tr><th>user</th><th>item</th><th>rating</th></tr><tr><td>i64</td><td>str</td><td>i64</td></tr></thead><tbody><tr><td>1</td><td>&quot;Toy Story (1995)&quot;</td><td>5</td></tr><tr><td>1</td><td>&quot;GoldenEye (1995)&quot;</td><td>3</td></tr><tr><td>1</td><td>&quot;Four Rooms (1995)&quot;</td><td>4</td></tr><tr><td>1</td><td>&quot;Get Shorty (1995)&quot;</td><td>3</td></tr><tr><td>1</td><td>&quot;Copycat (1995)&quot;</td><td>3</td></tr></tbody></table></div>"
      ],
      "text/plain": [
       "shape: (5, 3)\n",
       "┌──────┬───────────────────┬────────┐\n",
       "│ user ┆ item              ┆ rating │\n",
       "│ ---  ┆ ---               ┆ ---    │\n",
       "│ i64  ┆ str               ┆ i64    │\n",
       "╞══════╪═══════════════════╪════════╡\n",
       "│ 1    ┆ Toy Story (1995)  ┆ 5      │\n",
       "│ 1    ┆ GoldenEye (1995)  ┆ 3      │\n",
       "│ 1    ┆ Four Rooms (1995) ┆ 4      │\n",
       "│ 1    ┆ Get Shorty (1995) ┆ 3      │\n",
       "│ 1    ┆ Copycat (1995)    ┆ 3      │\n",
       "└──────┴───────────────────┴────────┘"
      ]
     },
     "execution_count": 45,
     "metadata": {},
     "output_type": "execute_result"
    }
   ],
   "source": [
    "# Without Dalmatians_sample\n",
    "all_sample_wihout_Dalmatians = df.filter(df['item'] != '101 Dalmatians (1996)')\n",
    "\n",
    "# head of the all_sample_wihout_Dalmatians\n",
    "all_sample_wihout_Dalmatians.head()"
   ]
  },
  {
   "cell_type": "code",
   "execution_count": 46,
   "metadata": {},
   "outputs": [
    {
     "data": {
      "text/plain": [
       "(99283, 3)"
      ]
     },
     "execution_count": 46,
     "metadata": {},
     "output_type": "execute_result"
    }
   ],
   "source": [
    "# shape of all_sample_wihout_Dalmatians\n",
    "all_sample_wihout_Dalmatians.shape"
   ]
  },
  {
   "cell_type": "markdown",
   "metadata": {},
   "source": [
    "## **Prédiction aléatoire**"
   ]
  },
  {
   "cell_type": "code",
   "execution_count": 48,
   "metadata": {},
   "outputs": [
    {
     "name": "stdout",
     "output_type": "stream",
     "text": [
      "RMSE for random predictions: 1.684\n"
     ]
    }
   ],
   "source": [
    "# Generate random predictions (1-5) for each rating in Dalmatians_sample\n",
    "np.random.seed(42)  # for reproducibility\n",
    "random_predictions = np.random.randint(1, 6, size=len(Dalmatians_sample))\n",
    "\n",
    "# Calculate RMSE\n",
    "actual_ratings = Dalmatians_sample['rating'].to_numpy()\n",
    "rmse = np.sqrt(np.mean((actual_ratings - random_predictions) ** 2))\n",
    "\n",
    "print(f\"RMSE for random predictions: {rmse:.3f}\")"
   ]
  },
  {
   "cell_type": "code",
   "execution_count": 49,
   "metadata": {},
   "outputs": [
    {
     "name": "stdout",
     "output_type": "stream",
     "text": [
      "RMSE for random predictions using sklearn metrics: 1.684\n"
     ]
    }
   ],
   "source": [
    "from sklearn.metrics import mean_squared_error\n",
    "\n",
    "# Generate random predictions (1-5) for each rating in Dalmatians_sample\n",
    "np.random.seed(42)  # for reproducibility\n",
    "random_predictions = np.random.randint(1, 6, size=len(Dalmatians_sample))\n",
    "\n",
    "# Calculate RMSE using sklearn metrics\n",
    "rmse = np.sqrt(mean_squared_error(Dalmatians_sample['rating'], random_predictions))\n",
    "\n",
    "print(f\"RMSE for random predictions using sklearn metrics: {rmse:.3f}\")"
   ]
  },
  {
   "cell_type": "code",
   "execution_count": 50,
   "metadata": {},
   "outputs": [
    {
     "name": "stdout",
     "output_type": "stream",
     "text": [
      "Average RMSE over 1000 random predictions: 1.775\n",
      "Standard deviation of RMSE: 0.093\n"
     ]
    }
   ],
   "source": [
    "# Initialize list to store RMSE values\n",
    "rmse_values = []\n",
    "\n",
    "# Repeat the process 1000 times\n",
    "for _ in range(1000):\n",
    "    # Generate random predictions (1-5) for each rating in Dalmatians_sample\n",
    "    random_predictions = np.random.randint(1, 6, size=len(Dalmatians_sample))\n",
    "    \n",
    "    # Calculate RMSE for this iteration\n",
    "    rmse = np.sqrt(mean_squared_error(Dalmatians_sample['rating'], random_predictions))\n",
    "    rmse_values.append(rmse)\n",
    "\n",
    "# Calculate and print the average RMSE\n",
    "average_rmse = np.mean(rmse_values)\n",
    "print(f\"Average RMSE over 1000 random predictions: {average_rmse:.3f}\")\n",
    "\n",
    "# Optional: Calculate standard deviation\n",
    "std_rmse = np.std(rmse_values)\n",
    "print(f\"Standard deviation of RMSE: {std_rmse:.3f}\")"
   ]
  },
  {
   "cell_type": "code",
   "execution_count": 54,
   "metadata": {},
   "outputs": [
    {
     "data": {
      "image/png": "[encoded data removed]",
      "text/plain": [
       "<Figure size 1000x600 with 1 Axes>"
      ]
     },
     "metadata": {},
     "output_type": "display_data"
    }
   ],
   "source": [
    "# show the boxplot of the average_rmse\n",
    "plt.figure(figsize=(10, 6))\n",
    "sns.boxplot(rmse_values)\n",
    "plt.xlabel(\"RMSE\")\n",
    "plt.title(\"Distribution of RMSE for Random Predictions\")\n",
    "plt.show()"
   ]
  },
  {
   "cell_type": "markdown",
   "metadata": {},
   "source": [
    "## **Prédiction systématique**"
   ]
  },
  {
   "cell_type": "code",
   "execution_count": 55,
   "metadata": {},
   "outputs": [
    {
     "name": "stdout",
     "output_type": "stream",
     "text": [
      "Mean rating used for predictions: 3.531\n",
      "RMSE for systematic predictions: 1.239\n"
     ]
    }
   ],
   "source": [
    "# Calculate the mean rating from all_sample_wihout_Dalmatians\n",
    "mean_rating = all_sample_wihout_Dalmatians['rating'].mean()\n",
    "\n",
    "# Create predictions using the mean rating\n",
    "systematic_predictions = np.full(len(Dalmatians_sample), mean_rating)\n",
    "\n",
    "# Calculate RMSE\n",
    "rmse = np.sqrt(mean_squared_error(Dalmatians_sample['rating'], systematic_predictions))\n",
    "\n",
    "print(f\"Mean rating used for predictions: {mean_rating:.3f}\")\n",
    "print(f\"RMSE for systematic predictions: {rmse:.3f}\")"
   ]
  },
  {
   "cell_type": "code",
   "execution_count": 59,
   "metadata": {},
   "outputs": [
    {
     "name": "stdout",
     "output_type": "stream",
     "text": [
      "Mean rating for '101 Dalmatians (1996)' in training set: 2.908\n",
      "RMSE for systematic prediction using movie mean: 1.071\n"
     ]
    }
   ],
   "source": [
    "# Calculate mean rating for '101 Dalmatians (1996)' from training set\n",
    "dalmatians_mean = Dalmatians_sample['rating'].mean()\n",
    "\n",
    "# Create predictions using the mean rating\n",
    "predictions = np.full(len(Dalmatians_sample), dalmatians_mean)\n",
    "\n",
    "# Calculate RMSE for Dalmatians predictions\n",
    "rmse = np.sqrt(mean_squared_error(Dalmatians_sample['rating'], predictions))\n",
    "\n",
    "print(f\"Mean rating for '101 Dalmatians (1996)' in training set: {dalmatians_mean:.3f}\")\n",
    "print(f\"RMSE for systematic prediction using movie mean: {rmse:.3f}\")"
   ]
  },
  {
   "cell_type": "markdown",
   "metadata": {},
   "source": [
    "## **Algorithme Slope-One**"
   ]
  }
 ],
 "metadata": {
  "kernelspec": {
   "display_name": "envM2SISE",
   "language": "python",
   "name": "python3"
  },
  "language_info": {
   "codemirror_mode": {
    "name": "ipython",
    "version": 3
   },
   "file_extension": ".py",
   "mimetype": "text/x-python",
   "name": "python",
   "nbconvert_exporter": "python",
   "pygments_lexer": "ipython3",
   "version": "3.10.11"
  }
 },
 "nbformat": 4,
 "nbformat_minor": 2
}
