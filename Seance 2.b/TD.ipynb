{
 "cells": [
  {
   "cell_type": "markdown",
   "metadata": {},
   "source": [
    "## **Libraries**"
   ]
  },
  {
   "cell_type": "code",
   "execution_count": 3,
   "metadata": {},
   "outputs": [],
   "source": [
    "# import libraries\n",
    "import polars as pl\n",
    "import numpy as np\n",
    "import pandas as pd\n",
    "import matplotlib.pyplot as plt\n"
   ]
  },
  {
   "cell_type": "code",
   "execution_count": 4,
   "metadata": {},
   "outputs": [],
   "source": [
    "df = pl.read_excel(\"dataset_scoring_bank_subset.xlsx\")"
   ]
  },
  {
   "cell_type": "code",
   "execution_count": 5,
   "metadata": {},
   "outputs": [
    {
     "name": "stdout",
     "output_type": "stream",
     "text": [
      "shape: (5, 17)\n",
      "┌───────────┬──────────┬─────────┬──────────────┬───┬──────┬────────┬────────────┬────────────┐\n",
      "│ objective ┆ ExStatus ┆ gender3 ┆ productcount ┆ … ┆ tf68 ┆ p13rcy ┆ amttagalog ┆ bmoy1intep │\n",
      "│ ---       ┆ ---      ┆ ---     ┆ ---          ┆   ┆ ---  ┆ ---    ┆ ---        ┆ ---        │\n",
      "│ str       ┆ str      ┆ i64     ┆ i64          ┆   ┆ i64  ┆ f64    ┆ f64        ┆ f64        │\n",
      "╞═══════════╪══════════╪═════════╪══════════════╪═══╪══════╪════════╪════════════╪════════════╡\n",
      "│ positive  ┆ train    ┆ 0       ┆ 8            ┆ … ┆ 1160 ┆ 0.0    ┆ 0.0        ┆ 0.05       │\n",
      "│ positive  ┆ train    ┆ 1       ┆ 2            ┆ … ┆ 707  ┆ 0.0    ┆ 0.0        ┆ 0.01       │\n",
      "│ positive  ┆ train    ┆ 0       ┆ 9            ┆ … ┆ 968  ┆ 0.0    ┆ 0.0        ┆ 0.01       │\n",
      "│ positive  ┆ train    ┆ 0       ┆ 7            ┆ … ┆ 630  ┆ 0.0    ┆ 0.0        ┆ 0.0        │\n",
      "│ positive  ┆ train    ┆ 0       ┆ 5            ┆ … ┆ 778  ┆ 0.0    ┆ 0.0        ┆ 0.02       │\n",
      "└───────────┴──────────┴─────────┴──────────────┴───┴──────┴────────┴────────────┴────────────┘\n"
     ]
    }
   ],
   "source": [
    "# head of the dataframe\n",
    "print(df.head())"
   ]
  },
  {
   "cell_type": "code",
   "execution_count": 7,
   "metadata": {},
   "outputs": [
    {
     "name": "stdout",
     "output_type": "stream",
     "text": [
      "objective\n",
      "ExStatus\n",
      "gender3\n",
      "productcount\n",
      "tf100\n",
      "bknfren\n",
      "ahh6ppers\n",
      "p05trans\n",
      "p02rcy\n",
      "bfiinca\n",
      "gender1\n",
      "brlanglic\n",
      "p12rcy\n",
      "tf68\n",
      "p13rcy\n",
      "amttagalog\n",
      "bmoy1intep\n"
     ]
    }
   ],
   "source": [
    "# list of columns\n",
    "for col in df.columns:\n",
    "    print(col)"
   ]
  },
  {
   "cell_type": "code",
   "execution_count": 8,
   "metadata": {},
   "outputs": [
    {
     "name": "stdout",
     "output_type": "stream",
     "text": [
      "(2158, 17)\n"
     ]
    }
   ],
   "source": [
    "# shape of the dataframe\n",
    "print(df.shape)"
   ]
  },
  {
   "cell_type": "code",
   "execution_count": 9,
   "metadata": {},
   "outputs": [
    {
     "name": "stdout",
     "output_type": "stream",
     "text": [
      "Training set shape: (1158, 16)\n",
      "Test set shape: (1000, 16)\n"
     ]
    }
   ],
   "source": [
    "# Split the data based on ExStatus\n",
    "train_df = df.filter(pl.col(\"ExStatus\") == \"train\").drop(\"ExStatus\")\n",
    "test_df = df.filter(pl.col(\"ExStatus\") == \"test\").drop(\"ExStatus\")\n",
    "\n",
    "# Print the dimensions of both datasets\n",
    "print(\"Training set shape:\", train_df.shape)\n",
    "print(\"Test set shape:\", test_df.shape)"
   ]
  },
  {
   "cell_type": "code",
   "execution_count": 18,
   "metadata": {},
   "outputs": [
    {
     "name": "stdout",
     "output_type": "stream",
     "text": [
      "shape: (2, 2)\n",
      "┌───────────┬───────┐\n",
      "│ objective ┆ count │\n",
      "│ ---       ┆ ---   │\n",
      "│ str       ┆ u32   │\n",
      "╞═══════════╪═══════╡\n",
      "│ negative  ┆ 567   │\n",
      "│ positive  ┆ 591   │\n",
      "└───────────┴───────┘\n"
     ]
    }
   ],
   "source": [
    "# value counts\n",
    "print(train_df[\"objective\"].value_counts())\n"
   ]
  },
  {
   "cell_type": "code",
   "execution_count": 15,
   "metadata": {},
   "outputs": [
    {
     "name": "stdout",
     "output_type": "stream",
     "text": [
      "shape: (2, 2)\n",
      "┌───────────┬───────┐\n",
      "│ objective ┆ count │\n",
      "│ ---       ┆ ---   │\n",
      "│ str       ┆ u32   │\n",
      "╞═══════════╪═══════╡\n",
      "│ negative  ┆ 512   │\n",
      "│ positive  ┆ 488   │\n",
      "└───────────┴───────┘\n"
     ]
    }
   ],
   "source": [
    "print(test_df[\"objective\"].value_counts())"
   ]
  },
  {
   "cell_type": "code",
   "execution_count": 22,
   "metadata": {},
   "outputs": [
    {
     "name": "stdout",
     "output_type": "stream",
     "text": [
      "X_train shape: (1158, 15)\n",
      "y_train shape: (1158,)\n",
      "X_test shape: (1000, 15)\n",
      "y_test shape: (1000,)\n"
     ]
    },
    {
     "name": "stderr",
     "output_type": "stream",
     "text": [
      "C:\\Users\\lcisse\\AppData\\Local\\Temp\\ipykernel_16864\\745774846.py:2: MapWithoutReturnDtypeWarning: Calling `map_elements` without specifying `return_dtype` can lead to unpredictable results. Specify `return_dtype` to silence this warning.\n",
      "  y_train = train_df[\"objective\"].map_elements(lambda x: 1 if x == \"positive\" else 0)\n",
      "C:\\Users\\lcisse\\AppData\\Local\\Temp\\ipykernel_16864\\745774846.py:3: MapWithoutReturnDtypeWarning: Calling `map_elements` without specifying `return_dtype` can lead to unpredictable results. Specify `return_dtype` to silence this warning.\n",
      "  y_test = test_df[\"objective\"].map_elements(lambda x: 1 if x == \"positive\" else 0)\n"
     ]
    }
   ],
   "source": [
    "# Prepare target variables (y)\n",
    "y_train = train_df[\"objective\"].map_elements(lambda x: 1 if x == \"positive\" else 0)\n",
    "y_test = test_df[\"objective\"].map_elements(lambda x: 1 if x == \"positive\" else 0)\n",
    "\n",
    "# Prepare feature matrices (X) by dropping the target column\n",
    "X_train = train_df.drop(\"objective\")\n",
    "X_test = test_df.drop(\"objective\")\n",
    "\n",
    "\n",
    "# Print shapes to verify\n",
    "print(\"X_train shape:\", X_train.shape)\n",
    "print(\"y_train shape:\", y_train.shape)\n",
    "print(\"X_test shape:\", X_test.shape)\n",
    "print(\"y_test shape:\", y_test.shape)"
   ]
  },
  {
   "cell_type": "markdown",
   "metadata": {},
   "source": [
    "## **Modélisation avec l’analyse discriminante**"
   ]
  },
  {
   "cell_type": "code",
   "execution_count": 24,
   "metadata": {},
   "outputs": [
    {
     "name": "stdout",
     "output_type": "stream",
     "text": [
      "Coefficients: [[-2.43980061e+00  1.49549110e-01  6.26890839e+00 -2.64238366e+00\n",
      "  -9.24022187e+00 -3.07609566e+00  7.85663395e-01  1.06274640e-05\n",
      "  -5.13621486e-01  2.63358238e+00  6.09641780e-01  2.55404793e-04\n",
      "   6.63902403e-01 -2.28069744e+01  6.17691722e+00]]\n",
      "Intercept: [-0.80557259]\n"
     ]
    }
   ],
   "source": [
    "from sklearn.discriminant_analysis import LinearDiscriminantAnalysis\n",
    "\n",
    "# Create and fit the LDA model\n",
    "lda = LinearDiscriminantAnalysis()\n",
    "lda.fit(X_train, y_train)\n",
    "\n",
    "# print coefficients and intercept\n",
    "print(\"Coefficients:\", lda.coef_)\n",
    "print(\"Intercept:\", lda.intercept_)"
   ]
  },
  {
   "cell_type": "markdown",
   "metadata": {},
   "source": [
    "## **Construction de la courbe de gain**"
   ]
  },
  {
   "cell_type": "code",
   "execution_count": 26,
   "metadata": {},
   "outputs": [],
   "source": [
    "# predict probabilities\n",
    "y_pred_proba = lda.predict_proba(X_test)"
   ]
  },
  {
   "cell_type": "code",
   "execution_count": 27,
   "metadata": {},
   "outputs": [
    {
     "name": "stdout",
     "output_type": "stream",
     "text": [
      "[0 1]\n"
     ]
    }
   ],
   "source": [
    "# show the classes_\n",
    "print(lda.classes_)"
   ]
  },
  {
   "cell_type": "code",
   "execution_count": 28,
   "metadata": {},
   "outputs": [
    {
     "name": "stdout",
     "output_type": "stream",
     "text": [
      "Mean probability score for positive class: 0.5242\n"
     ]
    }
   ],
   "source": [
    "# Get the positive class probabilities (second column of y_pred_proba)\n",
    "scores = y_pred_proba[:, 1]\n",
    "\n",
    "# Calculate and print the mean score\n",
    "mean_score = np.mean(scores)\n",
    "print(f\"Mean probability score for positive class: {mean_score:.4f}\")"
   ]
  },
  {
   "cell_type": "code",
   "execution_count": 31,
   "metadata": {},
   "outputs": [
    {
     "data": {
      "image/png": "[encoded data removed]",
      "text/plain": [
       "<Figure size 1000x600 with 1 Axes>"
      ]
     },
     "metadata": {},
     "output_type": "display_data"
    }
   ],
   "source": [
    "# Calculate cumulative gains\n",
    "def gain_curve(y_true, y_score):\n",
    "    # Sort by score in descending order\n",
    "    sorted_indices = np.argsort(y_score)[::-1]\n",
    "    y_true_sorted = y_true[sorted_indices]\n",
    "    \n",
    "    # Calculate cumulative positives\n",
    "    cum_positives = np.cumsum(y_true_sorted)\n",
    "    total_positives = cum_positives[-1]\n",
    "    \n",
    "    # Calculate percentages\n",
    "    percentages = np.linspace(0, 100, len(y_true))\n",
    "    gains = (cum_positives / total_positives) * 100\n",
    "    \n",
    "    # Add the origin point (0,0)\n",
    "    percentages = np.insert(percentages, 0, 0)\n",
    "    gains = np.insert(gains, 0, 0)\n",
    "    \n",
    "    return percentages, gains\n",
    "\n",
    "# Calculate perfect and random curves\n",
    "y_test_np = y_test.to_numpy()\n",
    "perfect_percentages, perfect_gains = gain_curve(y_test_np, y_test_np)\n",
    "random_gains = perfect_percentages\n",
    "\n",
    "# Calculate actual curve\n",
    "percentages, gains = gain_curve(y_test_np, scores)\n",
    "\n",
    "# Create the plot\n",
    "plt.figure(figsize=(10, 6))\n",
    "plt.plot(percentages, gains, 'b-', label='Model')\n",
    "plt.plot(perfect_percentages, random_gains, 'r--', label='Random model')\n",
    "\n",
    "plt.xlabel('Percentage of population')\n",
    "plt.ylabel('Percentage of positives captured')\n",
    "plt.title('Gain Curve')\n",
    "plt.legend()\n",
    "plt.grid(True)\n",
    "plt.show()"
   ]
  },
  {
   "cell_type": "code",
   "execution_count": 32,
   "metadata": {},
   "outputs": [
    {
     "name": "stdout",
     "output_type": "stream",
     "text": [
      "Percentage of positives captured at 30% of population: 47.7%\n",
      "Estimated number of positives captured in top 15000: 11650\n"
     ]
    }
   ],
   "source": [
    "# Calculate the percentage of positives captured at 30% of population\n",
    "target_percentage = 30\n",
    "idx = (np.abs(percentages - target_percentage)).argmin()\n",
    "capture_rate = gains[idx]\n",
    "\n",
    "# Calculate the number of positives in a population of 50000 with the same positive rate as test set\n",
    "total_positives = (y_test_np.mean() * 50000)\n",
    "captured_positives = total_positives * (capture_rate / 100)\n",
    "\n",
    "print(f\"Percentage of positives captured at {target_percentage}% of population: {capture_rate:.1f}%\")\n",
    "print(f\"Estimated number of positives captured in top 15000: {int(captured_positives)}\")"
   ]
  }
 ],
 "metadata": {
  "kernelspec": {
   "display_name": "envM2SISE",
   "language": "python",
   "name": "python3"
  },
  "language_info": {
   "codemirror_mode": {
    "name": "ipython",
    "version": 3
   },
   "file_extension": ".py",
   "mimetype": "text/x-python",
   "name": "python",
   "nbconvert_exporter": "python",
   "pygments_lexer": "ipython3",
   "version": "3.10.11"
  }
 },
 "nbformat": 4,
 "nbformat_minor": 2
}
